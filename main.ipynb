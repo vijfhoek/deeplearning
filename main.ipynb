{
 "cells": [
  {
   "cell_type": "code",
   "execution_count": 72,
   "metadata": {},
   "outputs": [],
   "source": [
    "import csv\n",
    "import numpy as np\n",
    "import matplotlib.pyplot as plt\n",
    "import pandas as pd\n",
    "\n",
    "import tensorflow as tf\n",
    "from tensorflow.keras import Sequential\n",
    "from tensorflow.keras.optimizers import Adam\n",
    "from tensorflow.keras.layers import LSTM, Dense"
   ]
  },
  {
   "cell_type": "code",
   "execution_count": 78,
   "metadata": {},
   "outputs": [
    {
     "ename": "IndexError",
     "evalue": "index 51 is out of bounds for axis 0 with size 51",
     "output_type": "error",
     "traceback": [
      "\u001b[0;31m---------------------------------------------------------------------------\u001b[0m",
      "\u001b[0;31mIndexError\u001b[0m                                Traceback (most recent call last)",
      "\u001b[1;32m/home/vijfhoek/Sync/Study/q3-diepleer/reproduction/main.ipynb Cell 2'\u001b[0m in \u001b[0;36m<cell line: 13>\u001b[0;34m()\u001b[0m\n\u001b[1;32m     <a href='vscode-notebook-cell:/home/vijfhoek/Sync/Study/q3-diepleer/reproduction/main.ipynb#ch0000001?line=9'>10</a>\u001b[0m                 norm_rows[i][j] \u001b[39m=\u001b[39m \u001b[39m0\u001b[39m\n\u001b[1;32m     <a href='vscode-notebook-cell:/home/vijfhoek/Sync/Study/q3-diepleer/reproduction/main.ipynb#ch0000001?line=10'>11</a>\u001b[0m     \u001b[39mreturn\u001b[39;00m norm_rows\n\u001b[0;32m---> <a href='vscode-notebook-cell:/home/vijfhoek/Sync/Study/q3-diepleer/reproduction/main.ipynb#ch0000001?line=12'>13</a>\u001b[0m normalized \u001b[39m=\u001b[39m normalize_data(data)\n\u001b[1;32m     <a href='vscode-notebook-cell:/home/vijfhoek/Sync/Study/q3-diepleer/reproduction/main.ipynb#ch0000001?line=13'>14</a>\u001b[0m normalized\n",
      "\u001b[1;32m/home/vijfhoek/Sync/Study/q3-diepleer/reproduction/main.ipynb Cell 2'\u001b[0m in \u001b[0;36mnormalize_data\u001b[0;34m(rows)\u001b[0m\n\u001b[1;32m      <a href='vscode-notebook-cell:/home/vijfhoek/Sync/Study/q3-diepleer/reproduction/main.ipynb#ch0000001?line=5'>6</a>\u001b[0m \u001b[39mfor\u001b[39;00m j \u001b[39min\u001b[39;00m \u001b[39mrange\u001b[39m(rows\u001b[39m.\u001b[39mshape[\u001b[39m1\u001b[39m]):\n\u001b[1;32m      <a href='vscode-notebook-cell:/home/vijfhoek/Sync/Study/q3-diepleer/reproduction/main.ipynb#ch0000001?line=6'>7</a>\u001b[0m     \u001b[39mif\u001b[39;00m ((max_columns[j]\u001b[39m-\u001b[39mmin_columns[j])\u001b[39m>\u001b[39m\u001b[39m0\u001b[39m):\n\u001b[0;32m----> <a href='vscode-notebook-cell:/home/vijfhoek/Sync/Study/q3-diepleer/reproduction/main.ipynb#ch0000001?line=7'>8</a>\u001b[0m         norm_rows[i][j] \u001b[39m=\u001b[39m (rows[j][i] \u001b[39m-\u001b[39m min_columns[j])\u001b[39m/\u001b[39m(max_columns[j]\u001b[39m-\u001b[39mmin_columns[j])\n\u001b[1;32m      <a href='vscode-notebook-cell:/home/vijfhoek/Sync/Study/q3-diepleer/reproduction/main.ipynb#ch0000001?line=8'>9</a>\u001b[0m     \u001b[39melse\u001b[39;00m:\n\u001b[1;32m     <a href='vscode-notebook-cell:/home/vijfhoek/Sync/Study/q3-diepleer/reproduction/main.ipynb#ch0000001?line=9'>10</a>\u001b[0m         norm_rows[i][j] \u001b[39m=\u001b[39m \u001b[39m0\u001b[39m\n",
      "\u001b[0;31mIndexError\u001b[0m: index 51 is out of bounds for axis 0 with size 51"
     ]
    }
   ],
   "source": [
    "def normalize_data(rows):\n",
    "    max_columns = rows.max(axis=0)\n",
    "    min_columns = rows.min(axis=0)\n",
    "    norm_rows = np.empty((rows.size, 52))\n",
    "    for i in range(rows.shape[0]):\n",
    "        for j in range(rows.shape[1]):\n",
    "            if ((max_columns[j]-min_columns[j])>0):\n",
    "                norm_rows[j][i] = (rows[j][i] - min_columns[j])/(max_columns[j]-min_columns[j])\n",
    "            else:\n",
    "                norm_rows[j][i] = 0\n",
    "    return norm_rows\n",
    "\n",
    "normalized = normalize_data(data)\n",
    "normalized"
   ]
  },
  {
   "cell_type": "code",
   "execution_count": 47,
   "metadata": {},
   "outputs": [
    {
     "name": "stdout",
     "output_type": "stream",
     "text": [
      "(94380, 54)\n"
     ]
    },
    {
     "data": {
      "text/plain": [
       "array([[268.8, 0.0, 5.2, ..., -8.8, 0, -3.4],\n",
       "       [243.2, 0.0, 6.1, ..., -0.2, 0, -3.6],\n",
       "       [217.6, 0.0, 5.2, ..., -0.2, 0, -3.6],\n",
       "       ...,\n",
       "       [345.6, 0.0, 6.6, ..., 0.0, 0, -13.2],\n",
       "       [332.8, 0.0, 5.7, ..., 0.0, 0, -13.3],\n",
       "       [281.6, 0.0, 5.2, ..., -0.1, 0, -13.3]], dtype=object)"
      ]
     },
     "execution_count": 47,
     "metadata": {},
     "output_type": "execute_result"
    }
   ],
   "source": [
    "def import_data():\n",
    "    data = pd.read_csv('data_kia.csv').values\n",
    "    x_data = data[:, :51]\n",
    "    y_data = data[:, 52]\n",
    "    return x_data, y_data\n",
    "\n",
    "data, labels = import_data()\n",
    "data"
   ]
  },
  {
   "cell_type": "code",
   "execution_count": 53,
   "metadata": {},
   "outputs": [
    {
     "data": {
      "text/plain": [
       "array([[1, 0, 0, ..., 0, 0, 0],\n",
       "       [1, 0, 0, ..., 0, 0, 0],\n",
       "       [1, 0, 0, ..., 0, 0, 0],\n",
       "       ...,\n",
       "       [0, 0, 0, ..., 0, 0, 0],\n",
       "       [0, 0, 0, ..., 0, 0, 0],\n",
       "       [0, 0, 0, ..., 0, 0, 0]])"
      ]
     },
     "execution_count": 53,
     "metadata": {},
     "output_type": "execute_result"
    }
   ],
   "source": [
    "def onehot_labels(labels, num_labels=10):\n",
    "    \"\"\"\n",
    "    Converts label arrya to 1-hot encoded vectors\n",
    "    \"\"\"\n",
    "\n",
    "    result = []\n",
    "\n",
    "    for l in labels:\n",
    "        label_vector = [0] * num_labels\n",
    "        index = ord(l) - ord('A')\n",
    "        label_vector[index] = 1\n",
    "\n",
    "        result.append(label_vector)\n",
    "\n",
    "    return np.array(result)\n",
    "\n",
    "y_data = onehot_labels(labels)\n",
    "\n",
    "y_data"
   ]
  },
  {
   "cell_type": "code",
   "execution_count": 73,
   "metadata": {},
   "outputs": [
    {
     "name": "stderr",
     "output_type": "stream",
     "text": [
      "2022-03-15 17:18:02.327056: W tensorflow/core/framework/cpu_allocator_impl.cc:82] Allocation of 616008192 exceeds 10% of free system memory.\n"
     ]
    },
    {
     "data": {
      "text/plain": [
       "TensorShape([16, 51])"
      ]
     },
     "execution_count": 73,
     "metadata": {},
     "output_type": "execute_result"
    }
   ],
   "source": [
    "def package_data(data, window_size=16):\n",
    "    result = []\n",
    "    for i in range(len(data) - window_size):\n",
    "        result.append(data[i:i + window_size])\n",
    "\n",
    "    return result\n",
    "x_data = tf.convert_to_tensor(package_data(data), dtype=tf.float64)\n",
    "x_data[0].shape"
   ]
  },
  {
   "cell_type": "code",
   "execution_count": null,
   "metadata": {},
   "outputs": [],
   "source": []
  },
  {
   "cell_type": "code",
   "execution_count": 74,
   "metadata": {},
   "outputs": [],
   "source": [
    "def create_model(learning_rate=1e-4, window_size=16, num_features=51):\n",
    "    model = Sequential()\n",
    "    model.add(LSTM(160, input_shape=(window_size, num_features), return_sequences=True ))\n",
    "    model.add(LSTM(200, ))\n",
    "\n",
    "    model.add(Dense(10, activation=\"sigmoid\"))\n",
    "    model.compile(optimizer=Adam(learning_rate=learning_rate), loss=\"categorical_crossentropy\", metrics=['categorical_crossentropy'])\n",
    "\n",
    "    return model"
   ]
  },
  {
   "cell_type": "code",
   "execution_count": 79,
   "metadata": {},
   "outputs": [
    {
     "name": "stdout",
     "output_type": "stream",
     "text": [
      " 209/2949 [=>............................] - ETA: 2:07 - loss: 2.2211 - categorical_crossentropy: 2.2211"
     ]
    },
    {
     "ename": "KeyboardInterrupt",
     "evalue": "",
     "output_type": "error",
     "traceback": [
      "\u001b[0;31m---------------------------------------------------------------------------\u001b[0m",
      "\u001b[0;31mKeyboardInterrupt\u001b[0m                         Traceback (most recent call last)",
      "\u001b[1;32m/home/vijfhoek/Sync/Study/q3-diepleer/reproduction/main.ipynb Cell 8'\u001b[0m in \u001b[0;36m<cell line: 2>\u001b[0;34m()\u001b[0m\n\u001b[1;32m      <a href='vscode-notebook-cell:/home/vijfhoek/Sync/Study/q3-diepleer/reproduction/main.ipynb#ch0000009?line=0'>1</a>\u001b[0m model \u001b[39m=\u001b[39m create_model()\n\u001b[0;32m----> <a href='vscode-notebook-cell:/home/vijfhoek/Sync/Study/q3-diepleer/reproduction/main.ipynb#ch0000009?line=1'>2</a>\u001b[0m model\u001b[39m.\u001b[39;49mfit(x_data, y_data[:\u001b[39m94364\u001b[39;49m])\n",
      "File \u001b[0;32m~/.cache/pypoetry/virtualenvs/deeplearning-xDqzH9Ev-py3.10/lib/python3.10/site-packages/keras/utils/traceback_utils.py:64\u001b[0m, in \u001b[0;36mfilter_traceback.<locals>.error_handler\u001b[0;34m(*args, **kwargs)\u001b[0m\n\u001b[1;32m     <a href='file:///~/.cache/pypoetry/virtualenvs/deeplearning-xDqzH9Ev-py3.10/lib/python3.10/site-packages/keras/utils/traceback_utils.py?line=61'>62</a>\u001b[0m filtered_tb \u001b[39m=\u001b[39m \u001b[39mNone\u001b[39;00m\n\u001b[1;32m     <a href='file:///~/.cache/pypoetry/virtualenvs/deeplearning-xDqzH9Ev-py3.10/lib/python3.10/site-packages/keras/utils/traceback_utils.py?line=62'>63</a>\u001b[0m \u001b[39mtry\u001b[39;00m:\n\u001b[0;32m---> <a href='file:///~/.cache/pypoetry/virtualenvs/deeplearning-xDqzH9Ev-py3.10/lib/python3.10/site-packages/keras/utils/traceback_utils.py?line=63'>64</a>\u001b[0m   \u001b[39mreturn\u001b[39;00m fn(\u001b[39m*\u001b[39;49margs, \u001b[39m*\u001b[39;49m\u001b[39m*\u001b[39;49mkwargs)\n\u001b[1;32m     <a href='file:///~/.cache/pypoetry/virtualenvs/deeplearning-xDqzH9Ev-py3.10/lib/python3.10/site-packages/keras/utils/traceback_utils.py?line=64'>65</a>\u001b[0m \u001b[39mexcept\u001b[39;00m \u001b[39mException\u001b[39;00m \u001b[39mas\u001b[39;00m e:  \u001b[39m# pylint: disable=broad-except\u001b[39;00m\n\u001b[1;32m     <a href='file:///~/.cache/pypoetry/virtualenvs/deeplearning-xDqzH9Ev-py3.10/lib/python3.10/site-packages/keras/utils/traceback_utils.py?line=65'>66</a>\u001b[0m   filtered_tb \u001b[39m=\u001b[39m _process_traceback_frames(e\u001b[39m.\u001b[39m__traceback__)\n",
      "File \u001b[0;32m~/.cache/pypoetry/virtualenvs/deeplearning-xDqzH9Ev-py3.10/lib/python3.10/site-packages/keras/engine/training.py:1384\u001b[0m, in \u001b[0;36mModel.fit\u001b[0;34m(self, x, y, batch_size, epochs, verbose, callbacks, validation_split, validation_data, shuffle, class_weight, sample_weight, initial_epoch, steps_per_epoch, validation_steps, validation_batch_size, validation_freq, max_queue_size, workers, use_multiprocessing)\u001b[0m\n\u001b[1;32m   <a href='file:///~/.cache/pypoetry/virtualenvs/deeplearning-xDqzH9Ev-py3.10/lib/python3.10/site-packages/keras/engine/training.py?line=1376'>1377</a>\u001b[0m \u001b[39mwith\u001b[39;00m tf\u001b[39m.\u001b[39mprofiler\u001b[39m.\u001b[39mexperimental\u001b[39m.\u001b[39mTrace(\n\u001b[1;32m   <a href='file:///~/.cache/pypoetry/virtualenvs/deeplearning-xDqzH9Ev-py3.10/lib/python3.10/site-packages/keras/engine/training.py?line=1377'>1378</a>\u001b[0m     \u001b[39m'\u001b[39m\u001b[39mtrain\u001b[39m\u001b[39m'\u001b[39m,\n\u001b[1;32m   <a href='file:///~/.cache/pypoetry/virtualenvs/deeplearning-xDqzH9Ev-py3.10/lib/python3.10/site-packages/keras/engine/training.py?line=1378'>1379</a>\u001b[0m     epoch_num\u001b[39m=\u001b[39mepoch,\n\u001b[1;32m   <a href='file:///~/.cache/pypoetry/virtualenvs/deeplearning-xDqzH9Ev-py3.10/lib/python3.10/site-packages/keras/engine/training.py?line=1379'>1380</a>\u001b[0m     step_num\u001b[39m=\u001b[39mstep,\n\u001b[1;32m   <a href='file:///~/.cache/pypoetry/virtualenvs/deeplearning-xDqzH9Ev-py3.10/lib/python3.10/site-packages/keras/engine/training.py?line=1380'>1381</a>\u001b[0m     batch_size\u001b[39m=\u001b[39mbatch_size,\n\u001b[1;32m   <a href='file:///~/.cache/pypoetry/virtualenvs/deeplearning-xDqzH9Ev-py3.10/lib/python3.10/site-packages/keras/engine/training.py?line=1381'>1382</a>\u001b[0m     _r\u001b[39m=\u001b[39m\u001b[39m1\u001b[39m):\n\u001b[1;32m   <a href='file:///~/.cache/pypoetry/virtualenvs/deeplearning-xDqzH9Ev-py3.10/lib/python3.10/site-packages/keras/engine/training.py?line=1382'>1383</a>\u001b[0m   callbacks\u001b[39m.\u001b[39mon_train_batch_begin(step)\n\u001b[0;32m-> <a href='file:///~/.cache/pypoetry/virtualenvs/deeplearning-xDqzH9Ev-py3.10/lib/python3.10/site-packages/keras/engine/training.py?line=1383'>1384</a>\u001b[0m   tmp_logs \u001b[39m=\u001b[39m \u001b[39mself\u001b[39;49m\u001b[39m.\u001b[39;49mtrain_function(iterator)\n\u001b[1;32m   <a href='file:///~/.cache/pypoetry/virtualenvs/deeplearning-xDqzH9Ev-py3.10/lib/python3.10/site-packages/keras/engine/training.py?line=1384'>1385</a>\u001b[0m   \u001b[39mif\u001b[39;00m data_handler\u001b[39m.\u001b[39mshould_sync:\n\u001b[1;32m   <a href='file:///~/.cache/pypoetry/virtualenvs/deeplearning-xDqzH9Ev-py3.10/lib/python3.10/site-packages/keras/engine/training.py?line=1385'>1386</a>\u001b[0m     context\u001b[39m.\u001b[39masync_wait()\n",
      "File \u001b[0;32m~/.cache/pypoetry/virtualenvs/deeplearning-xDqzH9Ev-py3.10/lib64/python3.10/site-packages/tensorflow/python/util/traceback_utils.py:150\u001b[0m, in \u001b[0;36mfilter_traceback.<locals>.error_handler\u001b[0;34m(*args, **kwargs)\u001b[0m\n\u001b[1;32m    <a href='file:///~/.cache/pypoetry/virtualenvs/deeplearning-xDqzH9Ev-py3.10/lib64/python3.10/site-packages/tensorflow/python/util/traceback_utils.py?line=147'>148</a>\u001b[0m filtered_tb \u001b[39m=\u001b[39m \u001b[39mNone\u001b[39;00m\n\u001b[1;32m    <a href='file:///~/.cache/pypoetry/virtualenvs/deeplearning-xDqzH9Ev-py3.10/lib64/python3.10/site-packages/tensorflow/python/util/traceback_utils.py?line=148'>149</a>\u001b[0m \u001b[39mtry\u001b[39;00m:\n\u001b[0;32m--> <a href='file:///~/.cache/pypoetry/virtualenvs/deeplearning-xDqzH9Ev-py3.10/lib64/python3.10/site-packages/tensorflow/python/util/traceback_utils.py?line=149'>150</a>\u001b[0m   \u001b[39mreturn\u001b[39;00m fn(\u001b[39m*\u001b[39;49margs, \u001b[39m*\u001b[39;49m\u001b[39m*\u001b[39;49mkwargs)\n\u001b[1;32m    <a href='file:///~/.cache/pypoetry/virtualenvs/deeplearning-xDqzH9Ev-py3.10/lib64/python3.10/site-packages/tensorflow/python/util/traceback_utils.py?line=150'>151</a>\u001b[0m \u001b[39mexcept\u001b[39;00m \u001b[39mException\u001b[39;00m \u001b[39mas\u001b[39;00m e:\n\u001b[1;32m    <a href='file:///~/.cache/pypoetry/virtualenvs/deeplearning-xDqzH9Ev-py3.10/lib64/python3.10/site-packages/tensorflow/python/util/traceback_utils.py?line=151'>152</a>\u001b[0m   filtered_tb \u001b[39m=\u001b[39m _process_traceback_frames(e\u001b[39m.\u001b[39m__traceback__)\n",
      "File \u001b[0;32m~/.cache/pypoetry/virtualenvs/deeplearning-xDqzH9Ev-py3.10/lib64/python3.10/site-packages/tensorflow/python/eager/def_function.py:915\u001b[0m, in \u001b[0;36mFunction.__call__\u001b[0;34m(self, *args, **kwds)\u001b[0m\n\u001b[1;32m    <a href='file:///~/.cache/pypoetry/virtualenvs/deeplearning-xDqzH9Ev-py3.10/lib64/python3.10/site-packages/tensorflow/python/eager/def_function.py?line=911'>912</a>\u001b[0m compiler \u001b[39m=\u001b[39m \u001b[39m\"\u001b[39m\u001b[39mxla\u001b[39m\u001b[39m\"\u001b[39m \u001b[39mif\u001b[39;00m \u001b[39mself\u001b[39m\u001b[39m.\u001b[39m_jit_compile \u001b[39melse\u001b[39;00m \u001b[39m\"\u001b[39m\u001b[39mnonXla\u001b[39m\u001b[39m\"\u001b[39m\n\u001b[1;32m    <a href='file:///~/.cache/pypoetry/virtualenvs/deeplearning-xDqzH9Ev-py3.10/lib64/python3.10/site-packages/tensorflow/python/eager/def_function.py?line=913'>914</a>\u001b[0m \u001b[39mwith\u001b[39;00m OptionalXlaContext(\u001b[39mself\u001b[39m\u001b[39m.\u001b[39m_jit_compile):\n\u001b[0;32m--> <a href='file:///~/.cache/pypoetry/virtualenvs/deeplearning-xDqzH9Ev-py3.10/lib64/python3.10/site-packages/tensorflow/python/eager/def_function.py?line=914'>915</a>\u001b[0m   result \u001b[39m=\u001b[39m \u001b[39mself\u001b[39;49m\u001b[39m.\u001b[39;49m_call(\u001b[39m*\u001b[39;49margs, \u001b[39m*\u001b[39;49m\u001b[39m*\u001b[39;49mkwds)\n\u001b[1;32m    <a href='file:///~/.cache/pypoetry/virtualenvs/deeplearning-xDqzH9Ev-py3.10/lib64/python3.10/site-packages/tensorflow/python/eager/def_function.py?line=916'>917</a>\u001b[0m new_tracing_count \u001b[39m=\u001b[39m \u001b[39mself\u001b[39m\u001b[39m.\u001b[39mexperimental_get_tracing_count()\n\u001b[1;32m    <a href='file:///~/.cache/pypoetry/virtualenvs/deeplearning-xDqzH9Ev-py3.10/lib64/python3.10/site-packages/tensorflow/python/eager/def_function.py?line=917'>918</a>\u001b[0m without_tracing \u001b[39m=\u001b[39m (tracing_count \u001b[39m==\u001b[39m new_tracing_count)\n",
      "File \u001b[0;32m~/.cache/pypoetry/virtualenvs/deeplearning-xDqzH9Ev-py3.10/lib64/python3.10/site-packages/tensorflow/python/eager/def_function.py:947\u001b[0m, in \u001b[0;36mFunction._call\u001b[0;34m(self, *args, **kwds)\u001b[0m\n\u001b[1;32m    <a href='file:///~/.cache/pypoetry/virtualenvs/deeplearning-xDqzH9Ev-py3.10/lib64/python3.10/site-packages/tensorflow/python/eager/def_function.py?line=943'>944</a>\u001b[0m   \u001b[39mself\u001b[39m\u001b[39m.\u001b[39m_lock\u001b[39m.\u001b[39mrelease()\n\u001b[1;32m    <a href='file:///~/.cache/pypoetry/virtualenvs/deeplearning-xDqzH9Ev-py3.10/lib64/python3.10/site-packages/tensorflow/python/eager/def_function.py?line=944'>945</a>\u001b[0m   \u001b[39m# In this case we have created variables on the first call, so we run the\u001b[39;00m\n\u001b[1;32m    <a href='file:///~/.cache/pypoetry/virtualenvs/deeplearning-xDqzH9Ev-py3.10/lib64/python3.10/site-packages/tensorflow/python/eager/def_function.py?line=945'>946</a>\u001b[0m   \u001b[39m# defunned version which is guaranteed to never create variables.\u001b[39;00m\n\u001b[0;32m--> <a href='file:///~/.cache/pypoetry/virtualenvs/deeplearning-xDqzH9Ev-py3.10/lib64/python3.10/site-packages/tensorflow/python/eager/def_function.py?line=946'>947</a>\u001b[0m   \u001b[39mreturn\u001b[39;00m \u001b[39mself\u001b[39;49m\u001b[39m.\u001b[39;49m_stateless_fn(\u001b[39m*\u001b[39;49margs, \u001b[39m*\u001b[39;49m\u001b[39m*\u001b[39;49mkwds)  \u001b[39m# pylint: disable=not-callable\u001b[39;00m\n\u001b[1;32m    <a href='file:///~/.cache/pypoetry/virtualenvs/deeplearning-xDqzH9Ev-py3.10/lib64/python3.10/site-packages/tensorflow/python/eager/def_function.py?line=947'>948</a>\u001b[0m \u001b[39melif\u001b[39;00m \u001b[39mself\u001b[39m\u001b[39m.\u001b[39m_stateful_fn \u001b[39mis\u001b[39;00m \u001b[39mnot\u001b[39;00m \u001b[39mNone\u001b[39;00m:\n\u001b[1;32m    <a href='file:///~/.cache/pypoetry/virtualenvs/deeplearning-xDqzH9Ev-py3.10/lib64/python3.10/site-packages/tensorflow/python/eager/def_function.py?line=948'>949</a>\u001b[0m   \u001b[39m# Release the lock early so that multiple threads can perform the call\u001b[39;00m\n\u001b[1;32m    <a href='file:///~/.cache/pypoetry/virtualenvs/deeplearning-xDqzH9Ev-py3.10/lib64/python3.10/site-packages/tensorflow/python/eager/def_function.py?line=949'>950</a>\u001b[0m   \u001b[39m# in parallel.\u001b[39;00m\n\u001b[1;32m    <a href='file:///~/.cache/pypoetry/virtualenvs/deeplearning-xDqzH9Ev-py3.10/lib64/python3.10/site-packages/tensorflow/python/eager/def_function.py?line=950'>951</a>\u001b[0m   \u001b[39mself\u001b[39m\u001b[39m.\u001b[39m_lock\u001b[39m.\u001b[39mrelease()\n",
      "File \u001b[0;32m~/.cache/pypoetry/virtualenvs/deeplearning-xDqzH9Ev-py3.10/lib64/python3.10/site-packages/tensorflow/python/eager/function.py:2956\u001b[0m, in \u001b[0;36mFunction.__call__\u001b[0;34m(self, *args, **kwargs)\u001b[0m\n\u001b[1;32m   <a href='file:///~/.cache/pypoetry/virtualenvs/deeplearning-xDqzH9Ev-py3.10/lib64/python3.10/site-packages/tensorflow/python/eager/function.py?line=2952'>2953</a>\u001b[0m \u001b[39mwith\u001b[39;00m \u001b[39mself\u001b[39m\u001b[39m.\u001b[39m_lock:\n\u001b[1;32m   <a href='file:///~/.cache/pypoetry/virtualenvs/deeplearning-xDqzH9Ev-py3.10/lib64/python3.10/site-packages/tensorflow/python/eager/function.py?line=2953'>2954</a>\u001b[0m   (graph_function,\n\u001b[1;32m   <a href='file:///~/.cache/pypoetry/virtualenvs/deeplearning-xDqzH9Ev-py3.10/lib64/python3.10/site-packages/tensorflow/python/eager/function.py?line=2954'>2955</a>\u001b[0m    filtered_flat_args) \u001b[39m=\u001b[39m \u001b[39mself\u001b[39m\u001b[39m.\u001b[39m_maybe_define_function(args, kwargs)\n\u001b[0;32m-> <a href='file:///~/.cache/pypoetry/virtualenvs/deeplearning-xDqzH9Ev-py3.10/lib64/python3.10/site-packages/tensorflow/python/eager/function.py?line=2955'>2956</a>\u001b[0m \u001b[39mreturn\u001b[39;00m graph_function\u001b[39m.\u001b[39;49m_call_flat(\n\u001b[1;32m   <a href='file:///~/.cache/pypoetry/virtualenvs/deeplearning-xDqzH9Ev-py3.10/lib64/python3.10/site-packages/tensorflow/python/eager/function.py?line=2956'>2957</a>\u001b[0m     filtered_flat_args, captured_inputs\u001b[39m=\u001b[39;49mgraph_function\u001b[39m.\u001b[39;49mcaptured_inputs)\n",
      "File \u001b[0;32m~/.cache/pypoetry/virtualenvs/deeplearning-xDqzH9Ev-py3.10/lib64/python3.10/site-packages/tensorflow/python/eager/function.py:1853\u001b[0m, in \u001b[0;36mConcreteFunction._call_flat\u001b[0;34m(self, args, captured_inputs, cancellation_manager)\u001b[0m\n\u001b[1;32m   <a href='file:///~/.cache/pypoetry/virtualenvs/deeplearning-xDqzH9Ev-py3.10/lib64/python3.10/site-packages/tensorflow/python/eager/function.py?line=1848'>1849</a>\u001b[0m possible_gradient_type \u001b[39m=\u001b[39m gradients_util\u001b[39m.\u001b[39mPossibleTapeGradientTypes(args)\n\u001b[1;32m   <a href='file:///~/.cache/pypoetry/virtualenvs/deeplearning-xDqzH9Ev-py3.10/lib64/python3.10/site-packages/tensorflow/python/eager/function.py?line=1849'>1850</a>\u001b[0m \u001b[39mif\u001b[39;00m (possible_gradient_type \u001b[39m==\u001b[39m gradients_util\u001b[39m.\u001b[39mPOSSIBLE_GRADIENT_TYPES_NONE\n\u001b[1;32m   <a href='file:///~/.cache/pypoetry/virtualenvs/deeplearning-xDqzH9Ev-py3.10/lib64/python3.10/site-packages/tensorflow/python/eager/function.py?line=1850'>1851</a>\u001b[0m     \u001b[39mand\u001b[39;00m executing_eagerly):\n\u001b[1;32m   <a href='file:///~/.cache/pypoetry/virtualenvs/deeplearning-xDqzH9Ev-py3.10/lib64/python3.10/site-packages/tensorflow/python/eager/function.py?line=1851'>1852</a>\u001b[0m   \u001b[39m# No tape is watching; skip to running the function.\u001b[39;00m\n\u001b[0;32m-> <a href='file:///~/.cache/pypoetry/virtualenvs/deeplearning-xDqzH9Ev-py3.10/lib64/python3.10/site-packages/tensorflow/python/eager/function.py?line=1852'>1853</a>\u001b[0m   \u001b[39mreturn\u001b[39;00m \u001b[39mself\u001b[39m\u001b[39m.\u001b[39m_build_call_outputs(\u001b[39mself\u001b[39;49m\u001b[39m.\u001b[39;49m_inference_function\u001b[39m.\u001b[39;49mcall(\n\u001b[1;32m   <a href='file:///~/.cache/pypoetry/virtualenvs/deeplearning-xDqzH9Ev-py3.10/lib64/python3.10/site-packages/tensorflow/python/eager/function.py?line=1853'>1854</a>\u001b[0m       ctx, args, cancellation_manager\u001b[39m=\u001b[39;49mcancellation_manager))\n\u001b[1;32m   <a href='file:///~/.cache/pypoetry/virtualenvs/deeplearning-xDqzH9Ev-py3.10/lib64/python3.10/site-packages/tensorflow/python/eager/function.py?line=1854'>1855</a>\u001b[0m forward_backward \u001b[39m=\u001b[39m \u001b[39mself\u001b[39m\u001b[39m.\u001b[39m_select_forward_and_backward_functions(\n\u001b[1;32m   <a href='file:///~/.cache/pypoetry/virtualenvs/deeplearning-xDqzH9Ev-py3.10/lib64/python3.10/site-packages/tensorflow/python/eager/function.py?line=1855'>1856</a>\u001b[0m     args,\n\u001b[1;32m   <a href='file:///~/.cache/pypoetry/virtualenvs/deeplearning-xDqzH9Ev-py3.10/lib64/python3.10/site-packages/tensorflow/python/eager/function.py?line=1856'>1857</a>\u001b[0m     possible_gradient_type,\n\u001b[1;32m   <a href='file:///~/.cache/pypoetry/virtualenvs/deeplearning-xDqzH9Ev-py3.10/lib64/python3.10/site-packages/tensorflow/python/eager/function.py?line=1857'>1858</a>\u001b[0m     executing_eagerly)\n\u001b[1;32m   <a href='file:///~/.cache/pypoetry/virtualenvs/deeplearning-xDqzH9Ev-py3.10/lib64/python3.10/site-packages/tensorflow/python/eager/function.py?line=1858'>1859</a>\u001b[0m forward_function, args_with_tangents \u001b[39m=\u001b[39m forward_backward\u001b[39m.\u001b[39mforward()\n",
      "File \u001b[0;32m~/.cache/pypoetry/virtualenvs/deeplearning-xDqzH9Ev-py3.10/lib64/python3.10/site-packages/tensorflow/python/eager/function.py:499\u001b[0m, in \u001b[0;36m_EagerDefinedFunction.call\u001b[0;34m(self, ctx, args, cancellation_manager)\u001b[0m\n\u001b[1;32m    <a href='file:///~/.cache/pypoetry/virtualenvs/deeplearning-xDqzH9Ev-py3.10/lib64/python3.10/site-packages/tensorflow/python/eager/function.py?line=496'>497</a>\u001b[0m \u001b[39mwith\u001b[39;00m _InterpolateFunctionError(\u001b[39mself\u001b[39m):\n\u001b[1;32m    <a href='file:///~/.cache/pypoetry/virtualenvs/deeplearning-xDqzH9Ev-py3.10/lib64/python3.10/site-packages/tensorflow/python/eager/function.py?line=497'>498</a>\u001b[0m   \u001b[39mif\u001b[39;00m cancellation_manager \u001b[39mis\u001b[39;00m \u001b[39mNone\u001b[39;00m:\n\u001b[0;32m--> <a href='file:///~/.cache/pypoetry/virtualenvs/deeplearning-xDqzH9Ev-py3.10/lib64/python3.10/site-packages/tensorflow/python/eager/function.py?line=498'>499</a>\u001b[0m     outputs \u001b[39m=\u001b[39m execute\u001b[39m.\u001b[39;49mexecute(\n\u001b[1;32m    <a href='file:///~/.cache/pypoetry/virtualenvs/deeplearning-xDqzH9Ev-py3.10/lib64/python3.10/site-packages/tensorflow/python/eager/function.py?line=499'>500</a>\u001b[0m         \u001b[39mstr\u001b[39;49m(\u001b[39mself\u001b[39;49m\u001b[39m.\u001b[39;49msignature\u001b[39m.\u001b[39;49mname),\n\u001b[1;32m    <a href='file:///~/.cache/pypoetry/virtualenvs/deeplearning-xDqzH9Ev-py3.10/lib64/python3.10/site-packages/tensorflow/python/eager/function.py?line=500'>501</a>\u001b[0m         num_outputs\u001b[39m=\u001b[39;49m\u001b[39mself\u001b[39;49m\u001b[39m.\u001b[39;49m_num_outputs,\n\u001b[1;32m    <a href='file:///~/.cache/pypoetry/virtualenvs/deeplearning-xDqzH9Ev-py3.10/lib64/python3.10/site-packages/tensorflow/python/eager/function.py?line=501'>502</a>\u001b[0m         inputs\u001b[39m=\u001b[39;49margs,\n\u001b[1;32m    <a href='file:///~/.cache/pypoetry/virtualenvs/deeplearning-xDqzH9Ev-py3.10/lib64/python3.10/site-packages/tensorflow/python/eager/function.py?line=502'>503</a>\u001b[0m         attrs\u001b[39m=\u001b[39;49mattrs,\n\u001b[1;32m    <a href='file:///~/.cache/pypoetry/virtualenvs/deeplearning-xDqzH9Ev-py3.10/lib64/python3.10/site-packages/tensorflow/python/eager/function.py?line=503'>504</a>\u001b[0m         ctx\u001b[39m=\u001b[39;49mctx)\n\u001b[1;32m    <a href='file:///~/.cache/pypoetry/virtualenvs/deeplearning-xDqzH9Ev-py3.10/lib64/python3.10/site-packages/tensorflow/python/eager/function.py?line=504'>505</a>\u001b[0m   \u001b[39melse\u001b[39;00m:\n\u001b[1;32m    <a href='file:///~/.cache/pypoetry/virtualenvs/deeplearning-xDqzH9Ev-py3.10/lib64/python3.10/site-packages/tensorflow/python/eager/function.py?line=505'>506</a>\u001b[0m     outputs \u001b[39m=\u001b[39m execute\u001b[39m.\u001b[39mexecute_with_cancellation(\n\u001b[1;32m    <a href='file:///~/.cache/pypoetry/virtualenvs/deeplearning-xDqzH9Ev-py3.10/lib64/python3.10/site-packages/tensorflow/python/eager/function.py?line=506'>507</a>\u001b[0m         \u001b[39mstr\u001b[39m(\u001b[39mself\u001b[39m\u001b[39m.\u001b[39msignature\u001b[39m.\u001b[39mname),\n\u001b[1;32m    <a href='file:///~/.cache/pypoetry/virtualenvs/deeplearning-xDqzH9Ev-py3.10/lib64/python3.10/site-packages/tensorflow/python/eager/function.py?line=507'>508</a>\u001b[0m         num_outputs\u001b[39m=\u001b[39m\u001b[39mself\u001b[39m\u001b[39m.\u001b[39m_num_outputs,\n\u001b[0;32m   (...)\u001b[0m\n\u001b[1;32m    <a href='file:///~/.cache/pypoetry/virtualenvs/deeplearning-xDqzH9Ev-py3.10/lib64/python3.10/site-packages/tensorflow/python/eager/function.py?line=510'>511</a>\u001b[0m         ctx\u001b[39m=\u001b[39mctx,\n\u001b[1;32m    <a href='file:///~/.cache/pypoetry/virtualenvs/deeplearning-xDqzH9Ev-py3.10/lib64/python3.10/site-packages/tensorflow/python/eager/function.py?line=511'>512</a>\u001b[0m         cancellation_manager\u001b[39m=\u001b[39mcancellation_manager)\n",
      "File \u001b[0;32m~/.cache/pypoetry/virtualenvs/deeplearning-xDqzH9Ev-py3.10/lib64/python3.10/site-packages/tensorflow/python/eager/execute.py:54\u001b[0m, in \u001b[0;36mquick_execute\u001b[0;34m(op_name, num_outputs, inputs, attrs, ctx, name)\u001b[0m\n\u001b[1;32m     <a href='file:///~/.cache/pypoetry/virtualenvs/deeplearning-xDqzH9Ev-py3.10/lib64/python3.10/site-packages/tensorflow/python/eager/execute.py?line=51'>52</a>\u001b[0m \u001b[39mtry\u001b[39;00m:\n\u001b[1;32m     <a href='file:///~/.cache/pypoetry/virtualenvs/deeplearning-xDqzH9Ev-py3.10/lib64/python3.10/site-packages/tensorflow/python/eager/execute.py?line=52'>53</a>\u001b[0m   ctx\u001b[39m.\u001b[39mensure_initialized()\n\u001b[0;32m---> <a href='file:///~/.cache/pypoetry/virtualenvs/deeplearning-xDqzH9Ev-py3.10/lib64/python3.10/site-packages/tensorflow/python/eager/execute.py?line=53'>54</a>\u001b[0m   tensors \u001b[39m=\u001b[39m pywrap_tfe\u001b[39m.\u001b[39;49mTFE_Py_Execute(ctx\u001b[39m.\u001b[39;49m_handle, device_name, op_name,\n\u001b[1;32m     <a href='file:///~/.cache/pypoetry/virtualenvs/deeplearning-xDqzH9Ev-py3.10/lib64/python3.10/site-packages/tensorflow/python/eager/execute.py?line=54'>55</a>\u001b[0m                                       inputs, attrs, num_outputs)\n\u001b[1;32m     <a href='file:///~/.cache/pypoetry/virtualenvs/deeplearning-xDqzH9Ev-py3.10/lib64/python3.10/site-packages/tensorflow/python/eager/execute.py?line=55'>56</a>\u001b[0m \u001b[39mexcept\u001b[39;00m core\u001b[39m.\u001b[39m_NotOkStatusException \u001b[39mas\u001b[39;00m e:\n\u001b[1;32m     <a href='file:///~/.cache/pypoetry/virtualenvs/deeplearning-xDqzH9Ev-py3.10/lib64/python3.10/site-packages/tensorflow/python/eager/execute.py?line=56'>57</a>\u001b[0m   \u001b[39mif\u001b[39;00m name \u001b[39mis\u001b[39;00m \u001b[39mnot\u001b[39;00m \u001b[39mNone\u001b[39;00m:\n",
      "\u001b[0;31mKeyboardInterrupt\u001b[0m: "
     ]
    }
   ],
   "source": [
    "model = create_model()\n",
    "model.fit(x_data, y_data[:94364])"
   ]
  }
 ],
 "metadata": {
  "interpreter": {
   "hash": "182e7fb9aef6214e65400ecd72ff791a1292424cbb76ef8d1a13d5d47cfdbfe7"
  },
  "kernelspec": {
   "display_name": "Python 3.10.2 ('deeplearning-xDqzH9Ev-py3.10')",
   "language": "python",
   "name": "python3"
  },
  "language_info": {
   "codemirror_mode": {
    "name": "ipython",
    "version": 3
   },
   "file_extension": ".py",
   "mimetype": "text/x-python",
   "name": "python",
   "nbconvert_exporter": "python",
   "pygments_lexer": "ipython3",
   "version": "3.10.2"
  },
  "orig_nbformat": 4
 },
 "nbformat": 4,
 "nbformat_minor": 2
}
