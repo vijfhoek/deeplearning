{
 "cells": [
  {
   "cell_type": "code",
   "execution_count": 2,
   "metadata": {},
   "outputs": [
    {
     "name": "stderr",
     "output_type": "stream",
     "text": [
      "2022-03-15 16:25:27.680460: W tensorflow/stream_executor/platform/default/dso_loader.cc:64] Could not load dynamic library 'libcudart.so.11.0'; dlerror: libcudart.so.11.0: cannot open shared object file: No such file or directory\n",
      "2022-03-15 16:25:27.680481: I tensorflow/stream_executor/cuda/cudart_stub.cc:29] Ignore above cudart dlerror if you do not have a GPU set up on your machine.\n"
     ]
    }
   ],
   "source": [
    "import keras\n",
    "import csv\n",
    "import numpy as np\n",
    "\n",
    "from tensorflow.keras import Sequential, Dense\n",
    "from tensorflow.keras.optimizers import Adam\n",
    "from tensorflow.keras.layers import LSTM"
   ]
  },
  {
   "cell_type": "code",
   "execution_count": 4,
   "metadata": {},
   "outputs": [],
   "source": [
    "def import_data():\n",
    "    return np.genfromtxt('data_kia.csv', delimiter=',')\n",
    "\n",
    "def normalize_data(rows):\n",
    "    max_columns = rows.max(axis=0)\n",
    "    max_columns = rows.min(axis=0)\n",
    "    for i in rows[0].size:\n",
    "        for j in rows.size:\n",
    "            xmax = max_columns[j]\n",
    "            xmin = min_columns[j]"
   ]
  },
  {
   "cell_type": "code",
   "execution_count": null,
   "metadata": {},
   "outputs": [],
   "source": []
  },
  {
   "cell_type": "code",
   "execution_count": null,
   "metadata": {},
   "outputs": [],
   "source": [
    "def create_model(learning_rate=1e-4, window_size=16, num_features=51):\n",
    "    model = Sequential()\n",
    "    model.add(LSTM(160, input_shape=(window_size, num_features)))\n",
    "    model.add(LSTM(200, ))\n",
    "\n",
    "    model.add(Dense(10, activation=\"sigmoid\"))\n",
    "    model.compile(optimizer=Adam(learning_rate=learning_rate), loss=\"categorical_crossentropy\", metrics=['categorical_crossentropy'])\n",
    "\n",
    "    return model"
   ]
  },
  {
   "cell_type": "code",
   "execution_count": null,
   "metadata": {},
   "outputs": [],
   "source": []
  }
 ],
 "metadata": {
  "interpreter": {
   "hash": "182e7fb9aef6214e65400ecd72ff791a1292424cbb76ef8d1a13d5d47cfdbfe7"
  },
  "kernelspec": {
   "display_name": "Python 3.10.2 ('deeplearning-xDqzH9Ev-py3.10')",
   "language": "python",
   "name": "python3"
  },
  "language_info": {
   "codemirror_mode": {
    "name": "ipython",
    "version": 3
   },
   "file_extension": ".py",
   "mimetype": "text/x-python",
   "name": "python",
   "nbconvert_exporter": "python",
   "pygments_lexer": "ipython3",
   "version": "3.10.2"
  },
  "orig_nbformat": 4
 },
 "nbformat": 4,
 "nbformat_minor": 2
}
