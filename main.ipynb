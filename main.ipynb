{
 "cells": [
  {
   "cell_type": "code",
   "execution_count": 1,
   "metadata": {},
   "outputs": [
    {
     "name": "stderr",
     "output_type": "stream",
     "text": [
      "2022-03-15 17:50:18.347721: W tensorflow/stream_executor/platform/default/dso_loader.cc:64] Could not load dynamic library 'libcudart.so.11.0'; dlerror: libcudart.so.11.0: cannot open shared object file: No such file or directory\n",
      "2022-03-15 17:50:18.347744: I tensorflow/stream_executor/cuda/cudart_stub.cc:29] Ignore above cudart dlerror if you do not have a GPU set up on your machine.\n"
     ]
    }
   ],
   "source": [
    "# !pip install numpy==1.19.5\n",
    "os.environ[\"KERAS_BACKEND\"] = \"plaidml.bridge.keras\"\n",
    "\n",
    "import csv\n",
    "import numpy as np\n",
    "import matplotlib.pyplot as plt\n",
    "import pandas as pd\n",
    "import random as rd\n",
    "\n",
    "import tensorflow as tf\n",
    "from tensorflow.keras import Sequential\n",
    "from tensorflow.keras.optimizers import Adam\n",
    "from tensorflow.keras.layers import LSTM, Dense"
   ]
  },
  {
   "cell_type": "code",
   "execution_count": 120,
   "metadata": {},
   "outputs": [
    {
     "data": {
      "text/plain": [
       "array([[268.8, 0.0, 5.2, ..., -8.8, 0, -3.4],\n",
       "       [243.2, 0.0, 6.1, ..., -0.2, 0, -3.6],\n",
       "       [217.6, 0.0, 5.2, ..., -0.2, 0, -3.6],\n",
       "       ...,\n",
       "       [345.6, 0.0, 6.6, ..., 0.0, 0, -13.2],\n",
       "       [332.8, 0.0, 5.7, ..., 0.0, 0, -13.3],\n",
       "       [281.6, 0.0, 5.2, ..., -0.1, 0, -13.3]], dtype=object)"
      ]
     },
     "execution_count": 120,
     "metadata": {},
     "output_type": "execute_result"
    }
   ],
   "source": [
    "def import_data():\n",
    "    \"\"\"\n",
    "    Import data and split into features and labels\n",
    "    \"\"\"\n",
    "    data = pd.read_csv('data_kia.csv').values\n",
    "    x_data = data[:, :51]\n",
    "    y_data = data[:, 52]\n",
    "    return x_data, y_data\n",
    "\n",
    "data, labels = import_data()\n",
    "data"
   ]
  },
  {
   "cell_type": "code",
   "execution_count": 129,
   "metadata": {},
   "outputs": [
    {
     "data": {
      "text/plain": [
       "array([[0.02459016, 0.        , 0.052     , ..., 0.07650273, 0.        ,\n",
       "        0.49030656],\n",
       "       [0.02224824, 0.        , 0.061     , ..., 0.54644809, 0.        ,\n",
       "        0.49011556],\n",
       "       [0.01990632, 0.        , 0.052     , ..., 0.54644809, 0.        ,\n",
       "        0.49011556],\n",
       "       ...,\n",
       "       [0.03161593, 0.        , 0.066     , ..., 0.55737705, 0.        ,\n",
       "        0.48094738],\n",
       "       [0.03044496, 0.        , 0.057     , ..., 0.55737705, 0.        ,\n",
       "        0.48085188],\n",
       "       [0.02576112, 0.        , 0.052     , ..., 0.55191257, 0.        ,\n",
       "        0.48085188]])"
      ]
     },
     "execution_count": 129,
     "metadata": {},
     "output_type": "execute_result"
    }
   ],
   "source": [
    "def normalize_data(rows):\n",
    "    max_columns = rows.max(axis=0)\n",
    "    min_columns = rows.min(axis=0)\n",
    "    norm_rows = np.empty(rows.shape)\n",
    "    for i in range(rows.shape[1]):\n",
    "        for j in range(rows.shape[0]):\n",
    "            if ((max_columns[i]-min_columns[i])>0):\n",
    "                norm_rows[j][i] = (rows[j][i] - min_columns[i])/(max_columns[i]-min_columns[i])\n",
    "            else:\n",
    "                norm_rows[j][i] = 0\n",
    "    return norm_rows\n",
    "\n",
    "normal_data = normalize_data(data)\n",
    "normal_data\n"
   ]
  },
  {
   "cell_type": "code",
   "execution_count": 121,
   "metadata": {},
   "outputs": [
    {
     "data": {
      "text/plain": [
       "<tf.Tensor: shape=(94380, 10), dtype=float64, numpy=\n",
       "array([[1., 0., 0., ..., 0., 0., 0.],\n",
       "       [1., 0., 0., ..., 0., 0., 0.],\n",
       "       [1., 0., 0., ..., 0., 0., 0.],\n",
       "       ...,\n",
       "       [0., 0., 0., ..., 0., 0., 0.],\n",
       "       [0., 0., 0., ..., 0., 0., 0.],\n",
       "       [0., 0., 0., ..., 0., 0., 0.]])>"
      ]
     },
     "execution_count": 121,
     "metadata": {},
     "output_type": "execute_result"
    }
   ],
   "source": [
    "def onehot_labels(labels, num_labels=10):\n",
    "    \"\"\"\n",
    "    Converts label array to 1-hot encoded vectors\n",
    "    \"\"\"\n",
    "\n",
    "    result = []\n",
    "\n",
    "    for l in labels:\n",
    "        label_vector = [0] * num_labels\n",
    "        index = ord(l) - ord('A')\n",
    "        label_vector[index] = 1\n",
    "\n",
    "        result.append(label_vector)\n",
    "\n",
    "    return np.array(result)\n",
    "\n",
    "y_data = tf.convert_to_tensor(onehot_labels(labels), dtype=tf.float64)\n",
    "\n",
    "\n",
    "y_data"
   ]
  },
  {
   "cell_type": "code",
   "execution_count": null,
   "metadata": {},
   "outputs": [],
   "source": [
    "def add_noise(data, noise_level, std_level):\n",
    "    induced_std = std_level * np.std(data, axis=1)\n",
    "    noisy_data = np.empty((data.shape[]))\n",
    "    for j in range(rows.shape[1]):\n",
    "        for i in range(rows.shape[0]]):\n",
    "            if (np.random.rand(1) >= noise_level):\n",
    "                noisy_data[i][j] = data[i][j] + np.random.normal(0,induced_std[j])\n",
    "            else: \n",
    "                nois\n",
    "        \n",
    "    "
   ]
  },
  {
   "cell_type": "code",
   "execution_count": 122,
   "metadata": {},
   "outputs": [
    {
     "name": "stderr",
     "output_type": "stream",
     "text": [
      "2022-03-15 17:29:19.847886: W tensorflow/core/framework/cpu_allocator_impl.cc:82] Allocation of 616008192 exceeds 10% of free system memory.\n"
     ]
    },
    {
     "data": {
      "text/plain": [
       "TensorShape([16, 51])"
      ]
     },
     "execution_count": 122,
     "metadata": {},
     "output_type": "execute_result"
    }
   ],
   "source": [
    "def package_data(data, window_size=16):\n",
    "    result = []\n",
    "    for i in range(len(data) - window_size):\n",
    "        result.append(data[i:i + window_size])\n",
    "\n",
    "    return result\n",
    "x_data = tf.convert_to_tensor(package_data(data), dtype=tf.float64)\n",
    "x_data[0].shape"
   ]
  },
  {
   "cell_type": "code",
   "execution_count": null,
   "metadata": {},
   "outputs": [],
   "source": []
  },
  {
   "cell_type": "code",
   "execution_count": 126,
   "metadata": {},
   "outputs": [],
   "source": [
    "def create_model(learning_rate=1e-4, window_size=16, num_features=51):\n",
    "    model = Sequential()\n",
    "    model.add(LSTM(160, input_shape=(window_size, num_features), return_sequences=True ))\n",
    "    model.add(LSTM(200, ))\n",
    "\n",
    "    model.add(Dense(10, activation=\"sigmoid\"))\n",
    "    model.compile(optimizer=Adam(learning_rate=learning_rate), loss=\"categorical_crossentropy\", metrics=['categorical_crossentropy'])\n",
    "\n",
    "    return model"
   ]
  },
  {
   "cell_type": "code",
   "execution_count": 127,
   "metadata": {},
   "outputs": [
    {
     "name": "stdout",
     "output_type": "stream",
     "text": [
      "738/738 [==============================] - 72s 94ms/step - loss: 2.0090 - categorical_crossentropy: 2.0090\n"
     ]
    },
    {
     "data": {
      "text/plain": [
       "<keras.callbacks.History at 0x7f8ca4ab2c80>"
      ]
     },
     "execution_count": 127,
     "metadata": {},
     "output_type": "execute_result"
    }
   ],
   "source": [
    "model = create_model()\n",
    "model.fit(x_data, y_data[ :-16], epochs=10, batch_size=128)"
   ]
  },
  {
   "cell_type": "code",
   "execution_count": null,
   "metadata": {},
   "outputs": [],
   "source": []
  }
 ],
 "metadata": {
  "interpreter": {
   "hash": "182e7fb9aef6214e65400ecd72ff791a1292424cbb76ef8d1a13d5d47cfdbfe7"
  },
  "kernelspec": {
   "display_name": "Python 3.10.2 ('deeplearning-xDqzH9Ev-py3.10')",
   "language": "python",
   "name": "python3"
  },
  "language_info": {
   "codemirror_mode": {
    "name": "ipython",
    "version": 3
   },
   "file_extension": ".py",
   "mimetype": "text/x-python",
   "name": "python",
   "nbconvert_exporter": "python",
   "pygments_lexer": "ipython3",
   "version": "3.8.5"
  },
  "orig_nbformat": 4
 },
 "nbformat": 4,
 "nbformat_minor": 2
}
