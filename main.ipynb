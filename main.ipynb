{
 "cells": [
  {
   "cell_type": "code",
   "execution_count": 79,
   "metadata": {},
   "outputs": [],
   "source": [
    "import numpy as np\n",
    "import matplotlib.pyplot as plt\n",
    "import pandas as pd\n",
    "import random as rd\n",
    "import tensorflow as tf\n",
    "\n",
    "from tensorflow.keras import Sequential\n",
    "from tqdm.keras import TqdmCallback\n",
    "from tensorflow.keras.optimizers import Adam\n",
    "from tensorflow.keras.layers import LSTM, Dense, Dropout, BatchNormalization\n",
    "from tensorflow.keras.callbacks import EarlyStopping\n",
    "\n",
    "from sklearn.model_selection import train_test_split\n",
    "\n",
    "WINDOW_SIZE=16"
   ]
  },
  {
   "cell_type": "code",
   "execution_count": 80,
   "metadata": {},
   "outputs": [],
   "source": [
    "def import_data():\n",
    "    \"\"\"\n",
    "    Import data and split into features and labels\n",
    "    \"\"\"\n",
    "    data = pd.read_csv('data_kia.csv').values\n",
    "    x_data = data[:, :51]\n",
    "    y_data = data[:, 52]\n",
    "    return x_data, y_data\n",
    "\n",
    "data, labels = import_data()"
   ]
  },
  {
   "cell_type": "code",
   "execution_count": 81,
   "metadata": {},
   "outputs": [],
   "source": [
    "def normalize_data(rows, max_columns=None, min_columns=None):\n",
    "    try:\n",
    "        if max_columns == None:\n",
    "            max_columns = rows.max(axis=0)\n",
    "    except:\n",
    "        pass\n",
    "    \n",
    "    try:\n",
    "        if min_columns == None:\n",
    "            min_columns = rows.min(axis=0)\n",
    "    except:\n",
    "        pass\n",
    "    norm_rows = np.empty(rows.shape)\n",
    "    for i in range(rows.shape[1]):\n",
    "        for j in range(rows.shape[0]):\n",
    "            if ((max_columns[i]-min_columns[i])>0):\n",
    "                norm_rows[j][i] = (rows[j][i] - min_columns[i])/(max_columns[i]-min_columns[i])\n",
    "            else:\n",
    "                norm_rows[j][i] = 0\n",
    "    return norm_rows, max_columns, min_columns\n",
    "\n",
    "normal_data, max_columns, min_columns = normalize_data(data)"
   ]
  },
  {
   "cell_type": "code",
   "execution_count": 82,
   "metadata": {},
   "outputs": [],
   "source": [
    "def onehot_labels(labels, num_labels=10, window_size=WINDOW_SIZE):\n",
    "    \"\"\"\n",
    "    Converts label array to 1-hot encoded vectors\n",
    "    \"\"\"\n",
    "\n",
    "    result = []\n",
    "\n",
    "    for l in labels:\n",
    "        label_vector = [0] * num_labels\n",
    "        index = ord(l) - ord('A')\n",
    "        label_vector[index] = 1\n",
    "\n",
    "        result.append(label_vector)\n",
    "\n",
    "    return np.array([result[i] for i in range(0, len(result) - window_size, (window_size // 2))])\n",
    "\n",
    "\n",
    "y_data = onehot_labels(labels)"
   ]
  },
  {
   "cell_type": "code",
   "execution_count": 83,
   "metadata": {},
   "outputs": [],
   "source": [
    "def package_data(data, window_size=WINDOW_SIZE):\n",
    "    result = []\n",
    "    for i in range(0, len(data) - window_size, window_size // 2):\n",
    "        result.append(data[i:i + window_size])\n",
    "\n",
    "    return (result)\n",
    "\n",
    "x_data = package_data(data)"
   ]
  },
  {
   "cell_type": "code",
   "execution_count": 84,
   "metadata": {},
   "outputs": [],
   "source": [
    "def add_noise(data, noise_level, std_level):\n",
    "    noise_map = np.random.rand(data.shape[0], data.shape[1])\n",
    "\n",
    "    non_noise_indices = np.where(noise_map > noise_level)\n",
    "    \n",
    "    noise = np.random.normal(0, std_level, data.shape)\n",
    "    noise[non_noise_indices] = 0\n",
    "\n",
    "    return data + noise\n",
    "   \n"
   ]
  },
  {
   "cell_type": "code",
   "execution_count": 85,
   "metadata": {},
   "outputs": [],
   "source": [
    "# create train and test batches\n",
    "x_train, x_test, y_train, y_test = train_test_split(\n",
    "    x_data, y_data[:], test_size=0.10\n",
    ")\n",
    "\n",
    "x_train_val = np.array(x_train)\n",
    "x_train = normalize_data(np.array(x_train), max_columns, min_columns)[0]\n",
    "\n",
    "x_test = np.array(x_test)\n",
    "\n",
    "y_train = np.array(y_train)\n",
    "y_test = np.array(y_test)"
   ]
  },
  {
   "cell_type": "code",
   "execution_count": 86,
   "metadata": {},
   "outputs": [],
   "source": [
    "def create_model(learning_rate=1e-4, window_size=WINDOW_SIZE, num_features=51):\n",
    "    model = Sequential()\n",
    "    model.add(LSTM(160, input_shape=(window_size, num_features), return_sequences=True ))\n",
    "    model.add(Dropout(0.5))\n",
    "    model.add(BatchNormalization())\n",
    "    model.add(LSTM(200, ))\n",
    "    model.add(BatchNormalization())\n",
    "    model.add(Dense(10, activation=\"sigmoid\"))\n",
    "    model.compile(optimizer=Adam(learning_rate=learning_rate), loss=\"categorical_crossentropy\", metrics=['categorical_crossentropy', 'accuracy'])\n",
    "\n",
    "    return model"
   ]
  },
  {
   "cell_type": "code",
   "execution_count": 100,
   "metadata": {},
   "outputs": [
    {
     "data": {
      "application/vnd.jupyter.widget-view+json": {
       "model_id": "e484b11bd6814bb3877925dfc840245f",
       "version_major": 2,
       "version_minor": 0
      },
      "text/plain": [
       "0epoch [00:00, ?epoch/s]"
      ]
     },
     "metadata": {},
     "output_type": "display_data"
    },
    {
     "data": {
      "application/vnd.jupyter.widget-view+json": {
       "model_id": "",
       "version_major": 2,
       "version_minor": 0
      },
      "text/plain": [
       "0batch [00:00, ?batch/s]"
      ]
     },
     "metadata": {},
     "output_type": "display_data"
    },
    {
     "data": {
      "text/plain": [
       "<tensorflow.python.keras.callbacks.History at 0x23fd43c6ee0>"
      ]
     },
     "execution_count": 100,
     "metadata": {},
     "output_type": "execute_result"
    }
   ],
   "source": [
    "model = create_model()\n",
    "\n",
    "callback = tf.keras.callbacks.EarlyStopping(monitor='val_accuracy', patience=50, restore_best_weights=True)\n",
    "model.fit(x_train, y_train, epochs=500, batch_size=64, validation_split=(0.05/0.9), callbacks=[callback, TqdmCallback(verbose=1)], verbose=0)"
   ]
  },
  {
   "cell_type": "code",
   "execution_count": 101,
   "metadata": {},
   "outputs": [],
   "source": [
    "data_sets = []\n",
    "std_levels = [0, 0.0625, 0.125, 0.3125, 0.5, 0.7, 0.8, 0.9, 1.0, 2.0]\n",
    "for i in std_levels:\n",
    "    data_sets.append(normalize_data(add_noise(x_test, 1, i), max_columns=max_columns, min_columns=min_columns)[0])\n",
    "    \n",
    "packaged_data = []\n",
    "for data_set in data_sets:\n",
    "    packaged_data.append(np.array(data_set))"
   ]
  },
  {
   "cell_type": "code",
   "execution_count": 102,
   "metadata": {},
   "outputs": [],
   "source": [
    "predictions = []\n",
    "for i, p in enumerate(packaged_data):\n",
    "    predictions.append(model.predict(p[:]))"
   ]
  },
  {
   "cell_type": "code",
   "execution_count": 103,
   "metadata": {},
   "outputs": [
    {
     "data": {
      "text/plain": [
       "[0.8915254237288136,\n",
       " 0.8915254237288136,\n",
       " 0.8923728813559322,\n",
       " 0.8847457627118644,\n",
       " 0.8796610169491526,\n",
       " 0.8669491525423729,\n",
       " 0.8728813559322034,\n",
       " 0.8508474576271187,\n",
       " 0.8423728813559322,\n",
       " 0.7254237288135593]"
      ]
     },
     "execution_count": 103,
     "metadata": {},
     "output_type": "execute_result"
    }
   ],
   "source": [
    "percentages = []\n",
    "\n",
    "for j, prediction in enumerate(predictions):\n",
    "    correct_count = 0\n",
    "\n",
    "    for i, p in enumerate(prediction):\n",
    "        # check if predicted labels is the same as test label\n",
    "        if np.argmax(p) == np.argmax(y_test[i]):\n",
    "            correct_count += 1\n",
    "    \n",
    "    percentages.append(correct_count/len(prediction))\n",
    "\n",
    "percentages"
   ]
  },
  {
   "cell_type": "code",
   "execution_count": 104,
   "metadata": {},
   "outputs": [
    {
     "data": {
      "image/png": "[encoded data removed]",
      "text/plain": [
       "<Figure size 432x288 with 1 Axes>"
      ]
     },
     "metadata": {
      "needs_background": "light"
     },
     "output_type": "display_data"
    }
   ],
   "source": [
    "plt.plot(std_levels, percentages)\n",
    "plt.ylim((0.0, 1.0))\n",
    "plt.xlabel(\"Noise Level\")\n",
    "plt.ylabel(\"Accuracy\")\n",
    "plt.show()"
   ]
  },
  {
   "cell_type": "code",
   "execution_count": 99,
   "metadata": {},
   "outputs": [],
   "source": [
    "model.save(\"model.h5\")"
   ]
  },
  {
   "cell_type": "code",
   "execution_count": null,
   "metadata": {},
   "outputs": [],
   "source": []
  }
 ],
 "metadata": {
  "interpreter": {
   "hash": "182e7fb9aef6214e65400ecd72ff791a1292424cbb76ef8d1a13d5d47cfdbfe7"
  },
  "kernelspec": {
   "display_name": "Python 3",
   "language": "python",
   "name": "python3"
  },
  "language_info": {
   "codemirror_mode": {
    "name": "ipython",
    "version": 3
   },
   "file_extension": ".py",
   "mimetype": "text/x-python",
   "name": "python",
   "nbconvert_exporter": "python",
   "pygments_lexer": "ipython3",
   "version": "3.8.5"
  }
 },
 "nbformat": 4,
 "nbformat_minor": 2
}
