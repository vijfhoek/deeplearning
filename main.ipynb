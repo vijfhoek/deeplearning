{
 "cells": [
  {
   "cell_type": "code",
   "execution_count": 59,
   "metadata": {},
   "outputs": [],
   "source": [
    "# !pip install numpy==1.19.5\n",
    "import numpy as np\n",
    "import matplotlib.pyplot as plt\n",
    "import pandas as pd\n",
    "import random as rd\n",
    "import tensorflow as tf\n",
    "\n",
    "from tensorflow.keras import Sequential\n",
    "from tensorflow.keras.optimizers import Adam\n",
    "from tensorflow.keras.layers import LSTM, Dense\n",
    "\n",
    "from sklearn.model_selection import train_test_split"
   ]
  },
  {
   "cell_type": "code",
   "execution_count": 60,
   "metadata": {},
   "outputs": [
    {
     "data": {
      "text/plain": [
       "array([[268.8, 0.0, 5.2, ..., -8.8, 0, -3.4],\n",
       "       [243.2, 0.0, 6.1, ..., -0.2, 0, -3.6],\n",
       "       [217.6, 0.0, 5.2, ..., -0.2, 0, -3.6],\n",
       "       ...,\n",
       "       [345.6, 0.0, 6.6, ..., 0.0, 0, -13.2],\n",
       "       [332.8, 0.0, 5.7, ..., 0.0, 0, -13.3],\n",
       "       [281.6, 0.0, 5.2, ..., -0.1, 0, -13.3]], dtype=object)"
      ]
     },
     "execution_count": 60,
     "metadata": {},
     "output_type": "execute_result"
    }
   ],
   "source": [
    "def import_data():\n",
    "    \"\"\"\n",
    "    Import data and split into features and labels\n",
    "    \"\"\"\n",
    "    data = pd.read_csv('data_kia.csv').values\n",
    "    x_data = data[:, :51]\n",
    "    y_data = data[:, 52]\n",
    "    return x_data, y_data\n",
    "\n",
    "data, labels = import_data()\n",
    "data"
   ]
  },
  {
   "cell_type": "code",
   "execution_count": 61,
   "metadata": {},
   "outputs": [
    {
     "data": {
      "text/plain": [
       "array([[0.02459016, 0.        , 0.052     , ..., 0.07650273, 0.        ,\n",
       "        0.49030656],\n",
       "       [0.02224824, 0.        , 0.061     , ..., 0.54644809, 0.        ,\n",
       "        0.49011556],\n",
       "       [0.01990632, 0.        , 0.052     , ..., 0.54644809, 0.        ,\n",
       "        0.49011556],\n",
       "       ...,\n",
       "       [0.03161593, 0.        , 0.066     , ..., 0.55737705, 0.        ,\n",
       "        0.48094738],\n",
       "       [0.03044496, 0.        , 0.057     , ..., 0.55737705, 0.        ,\n",
       "        0.48085188],\n",
       "       [0.02576112, 0.        , 0.052     , ..., 0.55191257, 0.        ,\n",
       "        0.48085188]])"
      ]
     },
     "execution_count": 61,
     "metadata": {},
     "output_type": "execute_result"
    }
   ],
   "source": [
    "def normalize_data(rows):\n",
    "    max_columns = rows.max(axis=0)\n",
    "    min_columns = rows.min(axis=0)\n",
    "    norm_rows = np.empty(rows.shape)\n",
    "    for i in range(rows.shape[1]):\n",
    "        for j in range(rows.shape[0]):\n",
    "            if ((max_columns[i]-min_columns[i])>0):\n",
    "                norm_rows[j][i] = (rows[j][i] - min_columns[i])/(max_columns[i]-min_columns[i])\n",
    "            else:\n",
    "                norm_rows[j][i] = 0\n",
    "    return norm_rows\n",
    "\n",
    "normal_data = normalize_data(data)\n",
    "normal_data\n"
   ]
  },
  {
   "cell_type": "code",
   "execution_count": 62,
   "metadata": {},
   "outputs": [
    {
     "data": {
      "text/plain": [
       "array([[1, 0, 0, ..., 0, 0, 0],\n",
       "       [1, 0, 0, ..., 0, 0, 0],\n",
       "       [1, 0, 0, ..., 0, 0, 0],\n",
       "       ...,\n",
       "       [0, 0, 0, ..., 0, 0, 0],\n",
       "       [0, 0, 0, ..., 0, 0, 0],\n",
       "       [0, 0, 0, ..., 0, 0, 0]])"
      ]
     },
     "execution_count": 62,
     "metadata": {},
     "output_type": "execute_result"
    }
   ],
   "source": [
    "def onehot_labels(labels, num_labels=10):\n",
    "    \"\"\"\n",
    "    Converts label array to 1-hot encoded vectors\n",
    "    \"\"\"\n",
    "\n",
    "    result = []\n",
    "\n",
    "    for l in labels:\n",
    "        label_vector = [0] * num_labels\n",
    "        index = ord(l) - ord('A')\n",
    "        label_vector[index] = 1\n",
    "\n",
    "        result.append(label_vector)\n",
    "\n",
    "    return np.array(result)\n",
    "\n",
    "# y_data = tf.convert_to_tensor(onehot_labels(labels), dtype=tf.float64)\n",
    "y_data = onehot_labels(labels)\n",
    "\n",
    "y_data"
   ]
  },
  {
   "cell_type": "code",
   "execution_count": null,
   "metadata": {},
   "outputs": [],
   "source": [
    "\n",
    "    "
   ]
  },
  {
   "cell_type": "code",
   "execution_count": 63,
   "metadata": {},
   "outputs": [
    {
     "data": {
      "text/plain": [
       "(16, 51)"
      ]
     },
     "execution_count": 63,
     "metadata": {},
     "output_type": "execute_result"
    }
   ],
   "source": [
    "def package_data(data, window_size=16):\n",
    "    result = []\n",
    "    for i in range(len(data) - window_size):\n",
    "        result.append(data[i:i + window_size])\n",
    "\n",
    "    return result\n",
    "# x_data = tf.convert_to_tensor(package_data(normal_data), dtype=tf.float64)\n",
    "x_data = package_data(normal_data)\n",
    "x_data[0].shape"
   ]
  },
  {
   "cell_type": "code",
   "execution_count": 64,
   "metadata": {},
   "outputs": [
    {
     "ename": "KeyboardInterrupt",
     "evalue": "",
     "output_type": "error",
     "traceback": [
      "\u001b[1;31m---------------------------------------------------------------------------\u001b[0m",
      "\u001b[1;31mKeyboardInterrupt\u001b[0m                         Traceback (most recent call last)",
      "\u001b[1;32m<ipython-input-64-79a77b78cc83>\u001b[0m in \u001b[0;36m<module>\u001b[1;34m\u001b[0m\n\u001b[0;32m     10\u001b[0m     \u001b[1;32mreturn\u001b[0m \u001b[0mnoisy_data\u001b[0m\u001b[1;33m\u001b[0m\u001b[1;33m\u001b[0m\u001b[0m\n\u001b[0;32m     11\u001b[0m \u001b[1;33m\u001b[0m\u001b[0m\n\u001b[1;32m---> 12\u001b[1;33m \u001b[0mnoisy_data\u001b[0m \u001b[1;33m=\u001b[0m \u001b[0madd_noise\u001b[0m\u001b[1;33m(\u001b[0m\u001b[0mdata\u001b[0m\u001b[1;33m,\u001b[0m \u001b[1;36m0.5\u001b[0m\u001b[1;33m,\u001b[0m \u001b[1;36m2.0\u001b[0m\u001b[1;33m)\u001b[0m\u001b[1;33m\u001b[0m\u001b[1;33m\u001b[0m\u001b[0m\n\u001b[0m\u001b[0;32m     13\u001b[0m \u001b[0mnoisy_data\u001b[0m\u001b[1;33m\u001b[0m\u001b[1;33m\u001b[0m\u001b[0m\n\u001b[0;32m     14\u001b[0m \u001b[1;33m\u001b[0m\u001b[0m\n",
      "\u001b[1;32m<ipython-input-64-79a77b78cc83>\u001b[0m in \u001b[0;36madd_noise\u001b[1;34m(data, noise_level, std_level)\u001b[0m\n\u001b[0;32m      4\u001b[0m     \u001b[1;32mfor\u001b[0m \u001b[0mj\u001b[0m \u001b[1;32min\u001b[0m \u001b[0mrange\u001b[0m\u001b[1;33m(\u001b[0m\u001b[0mdata\u001b[0m\u001b[1;33m.\u001b[0m\u001b[0mshape\u001b[0m\u001b[1;33m[\u001b[0m\u001b[1;36m1\u001b[0m\u001b[1;33m]\u001b[0m\u001b[1;33m)\u001b[0m\u001b[1;33m:\u001b[0m\u001b[1;33m\u001b[0m\u001b[1;33m\u001b[0m\u001b[0m\n\u001b[0;32m      5\u001b[0m         \u001b[1;32mfor\u001b[0m \u001b[0mi\u001b[0m \u001b[1;32min\u001b[0m \u001b[0mrange\u001b[0m\u001b[1;33m(\u001b[0m\u001b[0mdata\u001b[0m\u001b[1;33m.\u001b[0m\u001b[0mshape\u001b[0m\u001b[1;33m[\u001b[0m\u001b[1;36m0\u001b[0m\u001b[1;33m]\u001b[0m\u001b[1;33m)\u001b[0m\u001b[1;33m:\u001b[0m\u001b[1;33m\u001b[0m\u001b[1;33m\u001b[0m\u001b[0m\n\u001b[1;32m----> 6\u001b[1;33m             \u001b[1;32mif\u001b[0m \u001b[1;33m(\u001b[0m\u001b[0mnp\u001b[0m\u001b[1;33m.\u001b[0m\u001b[0mrandom\u001b[0m\u001b[1;33m.\u001b[0m\u001b[0mrand\u001b[0m\u001b[1;33m(\u001b[0m\u001b[1;36m1\u001b[0m\u001b[1;33m)\u001b[0m \u001b[1;33m>=\u001b[0m \u001b[0mnoise_level\u001b[0m\u001b[1;33m)\u001b[0m\u001b[1;33m:\u001b[0m\u001b[1;33m\u001b[0m\u001b[1;33m\u001b[0m\u001b[0m\n\u001b[0m\u001b[0;32m      7\u001b[0m                 \u001b[0mnoisy_data\u001b[0m\u001b[1;33m[\u001b[0m\u001b[0mi\u001b[0m\u001b[1;33m]\u001b[0m\u001b[1;33m[\u001b[0m\u001b[0mj\u001b[0m\u001b[1;33m]\u001b[0m \u001b[1;33m=\u001b[0m \u001b[0mdata\u001b[0m\u001b[1;33m[\u001b[0m\u001b[0mi\u001b[0m\u001b[1;33m]\u001b[0m\u001b[1;33m[\u001b[0m\u001b[0mj\u001b[0m\u001b[1;33m]\u001b[0m \u001b[1;33m+\u001b[0m \u001b[0mnp\u001b[0m\u001b[1;33m.\u001b[0m\u001b[0mrandom\u001b[0m\u001b[1;33m.\u001b[0m\u001b[0mnormal\u001b[0m\u001b[1;33m(\u001b[0m\u001b[1;36m0\u001b[0m\u001b[1;33m,\u001b[0m\u001b[0minduced_std\u001b[0m\u001b[1;33m[\u001b[0m\u001b[0mj\u001b[0m\u001b[1;33m]\u001b[0m\u001b[1;33m)\u001b[0m\u001b[1;33m\u001b[0m\u001b[1;33m\u001b[0m\u001b[0m\n\u001b[0;32m      8\u001b[0m             \u001b[1;32melse\u001b[0m\u001b[1;33m:\u001b[0m\u001b[1;33m\u001b[0m\u001b[1;33m\u001b[0m\u001b[0m\n",
      "\u001b[1;31mKeyboardInterrupt\u001b[0m: "
     ]
    }
   ],
   "source": [
    "\n",
    "def add_noise(data, noise_level, std_level):\n",
    "    induced_std = std_level * np.std(data.astype(float), axis=0)\n",
    "    noisy_data = np.empty(data.shape)\n",
    "    for j in range(data.shape[1]):\n",
    "        for i in range(data.shape[0]):\n",
    "            if (np.random.rand(1) >= noise_level):\n",
    "                noisy_data[i][j] = data[i][j] + np.random.normal(0,induced_std[j])\n",
    "            else: \n",
    "                noisy_data[i][j] = data[i][j]\n",
    "    return noisy_data\n",
    "\n",
    "noisy_data = add_noise(data, 0.5, 2.0)\n",
    "noisy_data       \n",
    "\n"
   ]
  },
  {
   "cell_type": "code",
   "execution_count": null,
   "metadata": {},
   "outputs": [
    {
     "data": {
      "image/png": "[encoded data removed]",
      "text/plain": [
       "<Figure size 432x288 with 1 Axes>"
      ]
     },
     "metadata": {
      "needs_background": "light"
     },
     "output_type": "display_data"
    }
   ],
   "source": [
    "plt.plot(noisy_data[:100, 43])\n",
    "plt.plot(data[:100, 43])\n",
    "plt.legend([\"Noise\", \"Normal\"])\n",
    "plt.show()"
   ]
  },
  {
   "cell_type": "code",
   "execution_count": null,
   "metadata": {},
   "outputs": [
    {
     "name": "stdout",
     "output_type": "stream",
     "text": [
      "(80209, 16, 51)\n",
      "(14155, 16, 51)\n",
      "(80209, 10) (14155, 10)\n"
     ]
    }
   ],
   "source": [
    "# create train and test batches\n",
    "x_train, x_test, y_train, y_test = train_test_split(\n",
    "    x_data, y_data[16:], test_size=0.15\n",
    ")\n",
    "\n",
    "x_train = np.array(x_train)\n",
    "x_test = np.array(x_test)\n",
    "y_train = np.array(y_train)\n",
    "y_test = np.array(y_test)\n",
    "\n",
    "print(x_train.shape), print(x_test.shape)\n",
    "print(y_train.shape, y_test.shape)"
   ]
  },
  {
   "cell_type": "code",
   "execution_count": null,
   "metadata": {},
   "outputs": [],
   "source": [
    "def create_model(learning_rate=1e-4, window_size=16, num_features=51):\n",
    "    model = Sequential()\n",
    "    model.add(LSTM(160, input_shape=(window_size, num_features), return_sequences=True ))\n",
    "    model.add(LSTM(200, ))\n",
    "\n",
    "    model.add(Dense(10, activation=\"sigmoid\"))\n",
    "    model.compile(optimizer=Adam(learning_rate=learning_rate), loss=\"categorical_crossentropy\", metrics=['categorical_crossentropy'])\n",
    "\n",
    "    return model"
   ]
  },
  {
   "cell_type": "code",
   "execution_count": null,
   "metadata": {},
   "outputs": [
    {
     "name": "stdout",
     "output_type": "stream",
     "text": [
      "Epoch 1/100\n",
      "314/314 [==============================] - 3s 10ms/step - loss: 1.6910 - categorical_crossentropy: 1.6910\n",
      "Epoch 2/100\n",
      "314/314 [==============================] - 3s 9ms/step - loss: 1.0542 - categorical_crossentropy: 1.0542: 0s - loss: 1.0626 - categorical_crossentro\n",
      "Epoch 3/100\n",
      "314/314 [==============================] - 3s 8ms/step - loss: 0.9169 - categorical_crossentropy: 0.9169\n",
      "Epoch 4/100\n",
      "314/314 [==============================] - 3s 11ms/step - loss: 0.8137 - categorical_crossentropy: 0.8137\n",
      "Epoch 5/100\n",
      "314/314 [==============================] - 5s 14ms/step - loss: 0.7411 - categorical_crossentropy: 0.7411\n",
      "Epoch 6/100\n",
      "314/314 [==============================] - 7s 23ms/step - loss: 0.6764 - categorical_crossentropy: 0.6764\n",
      "Epoch 7/100\n",
      "314/314 [==============================] - 6s 19ms/step - loss: 0.6303 - categorical_crossentropy: 0.6303\n",
      "Epoch 8/100\n",
      "314/314 [==============================] - 4s 13ms/step - loss: 0.5830 - categorical_crossentropy: 0.5830\n",
      "Epoch 9/100\n",
      "314/314 [==============================] - 8s 25ms/step - loss: 0.5551 - categorical_crossentropy: 0.5551 0s - loss: 0.5579 - categorical_crosse - ETA: 0s - loss: 0.5554 - categorical_crossentropy: \n",
      "Epoch 10/100\n",
      "314/314 [==============================] - 6s 18ms/step - loss: 0.5276 - categorical_crossentropy: 0.5276\n",
      "Epoch 11/100\n",
      "314/314 [==============================] - 5s 16ms/step - loss: 0.4867 - categorical_crossentropy: 0.4867\n",
      "Epoch 12/100\n",
      "314/314 [==============================] - 3s 11ms/step - loss: 0.4658 - categorical_crossentropy: 0.4658\n",
      "Epoch 13/100\n",
      "314/314 [==============================] - 5s 15ms/step - loss: 0.4220 - categorical_crossentropy: 0.4220 0s - loss: 0.4223 - categorical_crosse\n",
      "Epoch 14/100\n",
      "314/314 [==============================] - 3s 9ms/step - loss: 0.4026 - categorical_crossentropy: 0.4026\n",
      "Epoch 15/100\n",
      "314/314 [==============================] - 3s 8ms/step - loss: 0.3822 - categorical_crossentropy: 0.3822\n",
      "Epoch 16/100\n",
      "314/314 [==============================] - 3s 8ms/step - loss: 0.3491 - categorical_crossentropy: 0.3491\n",
      "Epoch 17/100\n",
      "314/314 [==============================] - 3s 8ms/step - loss: 0.3305 - categorical_crossentropy: 0.3305\n",
      "Epoch 18/100\n",
      "314/314 [==============================] - 3s 8ms/step - loss: 0.3104 - categorical_crossentropy: 0.3104\n",
      "Epoch 19/100\n",
      "314/314 [==============================] - 3s 9ms/step - loss: 0.2973 - categorical_crossentropy: 0.2973\n",
      "Epoch 20/100\n",
      "314/314 [==============================] - 3s 9ms/step - loss: 0.2781 - categorical_crossentropy: 0.2781: 0s - loss: 0\n",
      "Epoch 21/100\n",
      "314/314 [==============================] - 3s 11ms/step - loss: 0.2680 - categorical_crossentropy: 0.2680\n",
      "Epoch 22/100\n",
      "314/314 [==============================] - 4s 14ms/step - loss: 0.2488 - categorical_crossentropy: 0.2488\n",
      "Epoch 23/100\n",
      "314/314 [==============================] - 3s 11ms/step - loss: 0.2363 - categorical_crossentropy: 0.2363\n",
      "Epoch 24/100\n",
      "314/314 [==============================] - 3s 9ms/step - loss: 0.2178 - categorical_crossentropy: 0.2178\n",
      "Epoch 25/100\n",
      "314/314 [==============================] - 3s 10ms/step - loss: 0.2169 - categorical_crossentropy: 0.2169\n",
      "Epoch 26/100\n",
      "314/314 [==============================] - 3s 9ms/step - loss: 0.1972 - categorical_crossentropy: 0.1972\n",
      "Epoch 27/100\n",
      "314/314 [==============================] - 3s 10ms/step - loss: 0.1911 - categorical_crossentropy: 0.1911\n",
      "Epoch 28/100\n",
      "314/314 [==============================] - 5s 14ms/step - loss: 0.1884 - categorical_crossentropy: 0.1884\n",
      "Epoch 29/100\n",
      "314/314 [==============================] - 6s 19ms/step - loss: 0.1736 - categorical_crossentropy: 0.1736\n",
      "Epoch 30/100\n",
      "314/314 [==============================] - 3s 10ms/step - loss: 0.1699 - categorical_crossentropy: 0.1699\n",
      "Epoch 31/100\n",
      "314/314 [==============================] - 3s 9ms/step - loss: 0.1583 - categorical_crossentropy: 0.1583\n",
      "Epoch 32/100\n",
      "314/314 [==============================] - 3s 8ms/step - loss: 0.1436 - categorical_crossentropy: 0.1436\n",
      "Epoch 33/100\n",
      "314/314 [==============================] - 3s 8ms/step - loss: 0.1384 - categorical_crossentropy: 0.1384\n",
      "Epoch 34/100\n",
      "314/314 [==============================] - 3s 9ms/step - loss: 0.1465 - categorical_crossentropy: 0.1465\n",
      "Epoch 35/100\n",
      "314/314 [==============================] - 3s 10ms/step - loss: 0.1222 - categorical_crossentropy: 0.1222\n",
      "Epoch 36/100\n",
      "314/314 [==============================] - 3s 9ms/step - loss: 0.1179 - categorical_crossentropy: 0.1179\n",
      "Epoch 37/100\n",
      "314/314 [==============================] - 3s 8ms/step - loss: 0.1437 - categorical_crossentropy: 0.1437\n",
      "Epoch 38/100\n",
      "314/314 [==============================] - 3s 9ms/step - loss: 0.1015 - categorical_crossentropy: 0.1015\n",
      "Epoch 39/100\n",
      "314/314 [==============================] - 3s 9ms/step - loss: 0.1152 - categorical_crossentropy: 0.1152\n",
      "Epoch 40/100\n",
      "314/314 [==============================] - 4s 14ms/step - loss: 0.1181 - categorical_crossentropy: 0.1181\n",
      "Epoch 41/100\n",
      "314/314 [==============================] - 6s 19ms/step - loss: 0.0967 - categorical_crossentropy: 0.0967\n",
      "Epoch 42/100\n",
      "314/314 [==============================] - 6s 18ms/step - loss: 0.0894 - categorical_crossentropy: 0.0894 2s - loss: 0\n",
      "Epoch 43/100\n",
      "314/314 [==============================] - 3s 9ms/step - loss: 0.1083 - categorical_crossentropy: 0.1083\n",
      "Epoch 44/100\n",
      "314/314 [==============================] - 3s 9ms/step - loss: 0.0865 - categorical_crossentropy: 0.0865\n",
      "Epoch 45/100\n",
      "314/314 [==============================] - 3s 9ms/step - loss: 0.0795 - categorical_crossentropy: 0.0795: 0s - loss: 0.0830 - catego\n",
      "Epoch 46/100\n",
      "314/314 [==============================] - 3s 10ms/step - loss: 0.0914 - categorical_crossentropy: 0.0914\n",
      "Epoch 47/100\n",
      "314/314 [==============================] - 3s 11ms/step - loss: 0.0850 - categorical_crossentropy: 0.0850\n",
      "Epoch 48/100\n",
      "314/314 [==============================] - 3s 10ms/step - loss: 0.0735 - categorical_crossentropy: 0.0735\n",
      "Epoch 49/100\n",
      "314/314 [==============================] - 5s 15ms/step - loss: 0.0668 - categorical_crossentropy: 0.0668\n",
      "Epoch 50/100\n",
      "314/314 [==============================] - 5s 15ms/step - loss: 0.0944 - categorical_crossentropy: 0.0944\n",
      "Epoch 51/100\n",
      "314/314 [==============================] - 3s 11ms/step - loss: 0.0715 - categorical_crossentropy: 0.0715\n",
      "Epoch 52/100\n",
      "314/314 [==============================] - 3s 9ms/step - loss: 0.0837 - categorical_crossentropy: 0.0837\n",
      "Epoch 53/100\n",
      "314/314 [==============================] - 3s 10ms/step - loss: 0.0586 - categorical_crossentropy: 0.0586\n",
      "Epoch 54/100\n",
      "314/314 [==============================] - 5s 15ms/step - loss: 0.0743 - categorical_crossentropy: 0.0743 1s - loss: 0.0\n",
      "Epoch 55/100\n",
      "314/314 [==============================] - 6s 20ms/step - loss: 0.0547 - categorical_crossentropy: 0.0547\n",
      "Epoch 56/100\n",
      "314/314 [==============================] - 4s 12ms/step - loss: 0.0685 - categorical_crossentropy: 0.0685\n",
      "Epoch 57/100\n",
      "314/314 [==============================] - 3s 9ms/step - loss: 0.0527 - categorical_crossentropy: 0.0527\n",
      "Epoch 58/100\n",
      "314/314 [==============================] - 3s 9ms/step - loss: 0.0498 - categorical_crossentropy: 0.0498\n",
      "Epoch 59/100\n",
      "314/314 [==============================] - 6s 21ms/step - loss: 0.0533 - categorical_crossentropy: 0.0533\n",
      "Epoch 60/100\n",
      "314/314 [==============================] - 4s 11ms/step - loss: 0.0643 - categorical_crossentropy: 0.0643 1s - loss: 0\n",
      "Epoch 61/100\n",
      "314/314 [==============================] - 3s 11ms/step - loss: 0.0494 - categorical_crossentropy: 0.0494\n",
      "Epoch 62/100\n",
      "314/314 [==============================] - 7s 22ms/step - loss: 0.0573 - categorical_crossentropy: 0.0573\n",
      "Epoch 63/100\n",
      "314/314 [==============================] - 5s 17ms/step - loss: 0.0795 - categorical_crossentropy: 0.0795A: 2s - l\n",
      "Epoch 64/100\n",
      "314/314 [==============================] - 3s 10ms/step - loss: 0.0394 - categorical_crossentropy: 0.0394 2s - loss: 0.0366 - categorica\n",
      "Epoch 65/100\n",
      "314/314 [==============================] - 3s 10ms/step - loss: 0.0441 - categorical_crossentropy: 0.0441 2s - loss: 0.0398 -  - ETA: 1s - loss: 0 - ETA: 0s - loss: 0.0394 - categorical_crosse\n",
      "Epoch 66/100\n",
      "314/314 [==============================] - 3s 10ms/step - loss: 0.0483 - categorical_crossentropy: 0.0483\n",
      "Epoch 67/100\n",
      "314/314 [==============================] - 3s 10ms/step - loss: 0.0437 - categorical_crossentropy: 0.0437\n",
      "Epoch 68/100\n",
      "314/314 [==============================] - 3s 10ms/step - loss: 0.0503 - categorical_crossentropy: 0.0503\n",
      "Epoch 69/100\n",
      "314/314 [==============================] - 3s 10ms/step - loss: 0.0396 - categorical_crossentropy: 0.0396\n",
      "Epoch 70/100\n",
      "314/314 [==============================] - 3s 9ms/step - loss: 0.0503 - categorical_crossentropy: 0.0503\n",
      "Epoch 71/100\n",
      "314/314 [==============================] - 3s 10ms/step - loss: 0.0501 - categorical_crossentropy: 0.0501\n",
      "Epoch 72/100\n",
      "314/314 [==============================] - 3s 10ms/step - loss: 0.0356 - categorical_crossentropy: 0.0356  - ETA: 1s - loss: 0.0\n",
      "Epoch 73/100\n",
      "314/314 [==============================] - 3s 9ms/step - loss: 0.0478 - categorical_crossentropy: 0.0478\n",
      "Epoch 74/100\n",
      "314/314 [==============================] - 3s 10ms/step - loss: 0.0500 - categorical_crossentropy: 0.0500\n",
      "Epoch 75/100\n",
      "314/314 [==============================] - 5s 14ms/step - loss: 0.0320 - categorical_crossentropy: 0.0320\n",
      "Epoch 76/100\n",
      "314/314 [==============================] - 3s 9ms/step - loss: 0.0318 - categorical_crossentropy: 0.0318\n",
      "Epoch 77/100\n",
      "314/314 [==============================] - 3s 10ms/step - loss: 0.0537 - categorical_crossentropy: 0.0537\n",
      "Epoch 78/100\n",
      "314/314 [==============================] - 3s 9ms/step - loss: 0.0294 - categorical_crossentropy: 0.0294\n",
      "Epoch 79/100\n",
      "314/314 [==============================] - 4s 11ms/step - loss: 0.0439 - categorical_crossentropy: 0.0439\n",
      "Epoch 80/100\n",
      "314/314 [==============================] - 4s 11ms/step - loss: 0.0355 - categorical_crossentropy: 0.0355\n",
      "Epoch 81/100\n",
      "314/314 [==============================] - 3s 10ms/step - loss: 0.0413 - categorical_crossentropy: 0.0413\n",
      "Epoch 82/100\n",
      "314/314 [==============================] - 3s 10ms/step - loss: 0.0332 - categorical_crossentropy: 0.0332\n",
      "Epoch 83/100\n",
      "314/314 [==============================] - 3s 9ms/step - loss: 0.0308 - categorical_crossentropy: 0.0308\n",
      "Epoch 84/100\n",
      "314/314 [==============================] - 3s 9ms/step - loss: 0.0362 - categorical_crossentropy: 0.0362\n",
      "Epoch 85/100\n",
      "314/314 [==============================] - 3s 9ms/step - loss: 0.0298 - categorical_crossentropy: 0.0298\n",
      "Epoch 86/100\n",
      "314/314 [==============================] - 4s 13ms/step - loss: 0.0344 - categorical_crossentropy: 0.0344\n",
      "Epoch 87/100\n",
      "314/314 [==============================] - 3s 10ms/step - loss: 0.0461 - categorical_crossentropy: 0.0461\n",
      "Epoch 88/100\n",
      "314/314 [==============================] - 3s 9ms/step - loss: 0.0319 - categorical_crossentropy: 0.0319\n",
      "Epoch 89/100\n",
      "314/314 [==============================] - 3s 9ms/step - loss: 0.0234 - categorical_crossentropy: 0.0234\n",
      "Epoch 90/100\n",
      "314/314 [==============================] - 4s 12ms/step - loss: 0.0511 - categorical_crossentropy: 0.0511\n",
      "Epoch 91/100\n",
      "314/314 [==============================] - 3s 11ms/step - loss: 0.0168 - categorical_crossentropy: 0.0168 0s - loss: 0.0158 - categorical_cr\n",
      "Epoch 92/100\n",
      "314/314 [==============================] - 3s 9ms/step - loss: 0.0356 - categorical_crossentropy: 0.0356\n",
      "Epoch 93/100\n",
      "314/314 [==============================] - 3s 9ms/step - loss: 0.0244 - categorical_crossentropy: 0.0244\n",
      "Epoch 94/100\n",
      "314/314 [==============================] - 3s 9ms/step - loss: 0.0210 - categorical_crossentropy: 0.0210: 3s - ETA: 1s - l\n",
      "Epoch 95/100\n",
      "314/314 [==============================] - 4s 12ms/step - loss: 0.0422 - categorical_crossentropy: 0.0422 0s - loss: 0.0425 - categorical_crossentropy: 0.\n",
      "Epoch 96/100\n",
      "314/314 [==============================] - 3s 9ms/step - loss: 0.0308 - categorical_crossentropy: 0.0308\n",
      "Epoch 97/100\n",
      "314/314 [==============================] - 3s 9ms/step - loss: 0.0179 - categorical_crossentropy: 0.0179\n",
      "Epoch 98/100\n",
      "314/314 [==============================] - 3s 9ms/step - loss: 0.0340 - categorical_crossentropy: 0.0340\n",
      "Epoch 99/100\n",
      "314/314 [==============================] - 4s 13ms/step - loss: 0.0273 - categorical_crossentropy: 0.0273\n",
      "Epoch 100/100\n",
      "314/314 [==============================] - 5s 17ms/step - loss: 0.0259 - categorical_crossentropy: 0.0259\n"
     ]
    },
    {
     "data": {
      "text/plain": [
       "<tensorflow.python.keras.callbacks.History at 0x1639deb9070>"
      ]
     },
     "execution_count": 52,
     "metadata": {},
     "output_type": "execute_result"
    }
   ],
   "source": [
    "model = create_model()\n",
    "model.fit(x_train, y_train, epochs=100, batch_size=256)"
   ]
  },
  {
   "cell_type": "code",
   "execution_count": null,
   "metadata": {},
   "outputs": [],
   "source": [
    "prediction = model.predict(x_test)"
   ]
  },
  {
   "cell_type": "code",
   "execution_count": 65,
   "metadata": {},
   "outputs": [
    {
     "name": "stdout",
     "output_type": "stream",
     "text": [
      "Accuracy: 13993 / 14155 = 98.86%\n"
     ]
    }
   ],
   "source": [
    "correct_count = 0\n",
    "\n",
    "for i, p in enumerate(prediction):\n",
    "    # check if predicted labels is the same as test label\n",
    "    if np.argmax(p) == np.argmax(y_test[i]):\n",
    "        correct_count += 1\n",
    "\n",
    "print(f\"Accuracy: {correct_count} / {len(prediction)} = {correct_count / len(prediction) * 100:.2f}%\")\n"
   ]
  }
 ],
 "metadata": {
  "interpreter": {
   "hash": "182e7fb9aef6214e65400ecd72ff791a1292424cbb76ef8d1a13d5d47cfdbfe7"
  },
  "kernelspec": {
   "display_name": "Python 3.10.2 ('deeplearning-xDqzH9Ev-py3.10')",
   "language": "python",
   "name": "python3"
  },
  "language_info": {
   "codemirror_mode": {
    "name": "ipython",
    "version": 3
   },
   "file_extension": ".py",
   "mimetype": "text/x-python",
   "name": "python",
   "nbconvert_exporter": "python",
   "pygments_lexer": "ipython3",
   "version": "3.8.5"
  },
  "orig_nbformat": 4
 },
 "nbformat": 4,
 "nbformat_minor": 2
}
