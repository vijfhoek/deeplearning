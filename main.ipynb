{
 "cells": [
  {
   "cell_type": "code",
   "execution_count": 1,
   "metadata": {},
   "outputs": [
    {
     "name": "stdout",
     "output_type": "stream",
     "text": [
      "Requirement already satisfied: numpy==1.19.5 in c:\\users\\gamepc\\miniconda3\\lib\\site-packages (1.19.5)\n"
     ]
    },
    {
     "name": "stderr",
     "output_type": "stream",
     "text": [
      "C:\\Users\\GamePC\\miniconda3\\lib\\site-packages\\numpy\\_distributor_init.py:30: UserWarning: loaded more than 1 DLL from .libs:\n",
      "C:\\Users\\GamePC\\miniconda3\\lib\\site-packages\\numpy\\.libs\\libopenblas.NOIJJG62EMASZI6NYURL6JBKM4EVBGM7.gfortran-win_amd64.dll\n",
      "C:\\Users\\GamePC\\miniconda3\\lib\\site-packages\\numpy\\.libs\\libopenblas.WCDJNK7YVMPZQ2ME2ZZHJJRJ3JIKNDB7.gfortran-win_amd64.dll\n",
      "  warnings.warn(\"loaded more than 1 DLL from .libs:\"\n"
     ]
    }
   ],
   "source": [
    "!pip install numpy==1.19.5\n",
    "\n",
    "import csv\n",
    "import numpy as np\n",
    "import matplotlib.pyplot as plt\n",
    "import pandas as pd\n",
    "\n",
    "import tensorflow as tf\n",
    "from tensorflow.keras import Sequential\n",
    "from tensorflow.keras.optimizers import Adam\n",
    "from tensorflow.keras.layers import LSTM, Dense"
   ]
  },
  {
   "cell_type": "code",
   "execution_count": 2,
   "metadata": {},
   "outputs": [
    {
     "ename": "NameError",
     "evalue": "name 'data' is not defined",
     "output_type": "error",
     "traceback": [
      "\u001b[1;31m---------------------------------------------------------------------------\u001b[0m",
      "\u001b[1;31mNameError\u001b[0m                                 Traceback (most recent call last)",
      "\u001b[1;32m<ipython-input-2-4f5de289dc1a>\u001b[0m in \u001b[0;36m<module>\u001b[1;34m\u001b[0m\n\u001b[0;32m     11\u001b[0m     \u001b[1;32mreturn\u001b[0m \u001b[0mnorm_rows\u001b[0m\u001b[1;33m\u001b[0m\u001b[1;33m\u001b[0m\u001b[0m\n\u001b[0;32m     12\u001b[0m \u001b[1;33m\u001b[0m\u001b[0m\n\u001b[1;32m---> 13\u001b[1;33m \u001b[0mnormalized\u001b[0m \u001b[1;33m=\u001b[0m \u001b[0mnormalize_data\u001b[0m\u001b[1;33m(\u001b[0m\u001b[0mdata\u001b[0m\u001b[1;33m)\u001b[0m\u001b[1;33m\u001b[0m\u001b[1;33m\u001b[0m\u001b[0m\n\u001b[0m\u001b[0;32m     14\u001b[0m \u001b[0mnormalized\u001b[0m\u001b[1;33m\u001b[0m\u001b[1;33m\u001b[0m\u001b[0m\n",
      "\u001b[1;31mNameError\u001b[0m: name 'data' is not defined"
     ]
    }
   ],
   "source": [
    "def normalize_data(rows):\n",
    "    max_columns = rows.max(axis=0)\n",
    "    min_columns = rows.min(axis=0)\n",
    "    norm_rows = np.empty((rows.size, 52))\n",
    "    for i in range(rows.shape[0]):\n",
    "        for j in range(rows.shape[1]):\n",
    "            if ((max_columns[j]-min_columns[j])>0):\n",
    "                norm_rows[j][i] = (rows[j][i] - min_columns[j])/(max_columns[j]-min_columns[j])\n",
    "            else:\n",
    "                norm_rows[j][i] = 0\n",
    "    return norm_rows\n",
    "\n",
    "normalized = normalize_data(data)\n",
    "normalized"
   ]
  },
  {
   "cell_type": "code",
   "execution_count": 2,
   "metadata": {},
   "outputs": [
    {
     "data": {
      "text/plain": [
       "array([[268.8, 0.0, 5.2, ..., -8.8, 0, -3.4],\n",
       "       [243.2, 0.0, 6.1, ..., -0.2, 0, -3.6],\n",
       "       [217.6, 0.0, 5.2, ..., -0.2, 0, -3.6],\n",
       "       ...,\n",
       "       [345.6, 0.0, 6.6, ..., 0.0, 0, -13.2],\n",
       "       [332.8, 0.0, 5.7, ..., 0.0, 0, -13.3],\n",
       "       [281.6, 0.0, 5.2, ..., -0.1, 0, -13.3]], dtype=object)"
      ]
     },
     "execution_count": 2,
     "metadata": {},
     "output_type": "execute_result"
    }
   ],
   "source": [
    "def import_data():\n",
    "    data = pd.read_csv('data_kia.csv').values\n",
    "    x_data = data[:, :51]\n",
    "    y_data = data[:, 52]\n",
    "    return x_data, y_data\n",
    "\n",
    "data, labels = import_data()\n",
    "data"
   ]
  },
  {
   "cell_type": "code",
   "execution_count": 3,
   "metadata": {},
   "outputs": [
    {
     "data": {
      "text/plain": [
       "<tf.Tensor: shape=(94380, 10), dtype=float64, numpy=\n",
       "array([[1., 0., 0., ..., 0., 0., 0.],\n",
       "       [1., 0., 0., ..., 0., 0., 0.],\n",
       "       [1., 0., 0., ..., 0., 0., 0.],\n",
       "       ...,\n",
       "       [0., 0., 0., ..., 0., 0., 0.],\n",
       "       [0., 0., 0., ..., 0., 0., 0.],\n",
       "       [0., 0., 0., ..., 0., 0., 0.]])>"
      ]
     },
     "execution_count": 3,
     "metadata": {},
     "output_type": "execute_result"
    }
   ],
   "source": [
    "def onehot_labels(labels, num_labels=10):\n",
    "    \"\"\"\n",
    "    Converts label arrya to 1-hot encoded vectors\n",
    "    \"\"\"\n",
    "\n",
    "    result = []\n",
    "\n",
    "    for l in labels:\n",
    "        label_vector = [0] * num_labels\n",
    "        index = ord(l) - ord('A')\n",
    "        label_vector[index] = 1\n",
    "\n",
    "        result.append(label_vector)\n",
    "\n",
    "    return np.array(result)\n",
    "\n",
    "y_data = tf.convert_to_tensor(onehot_labels(labels), dtype=tf.float64)\n",
    "\n",
    "\n",
    "y_data"
   ]
  },
  {
   "cell_type": "code",
   "execution_count": 4,
   "metadata": {},
   "outputs": [
    {
     "data": {
      "text/plain": [
       "TensorShape([16, 51])"
      ]
     },
     "execution_count": 4,
     "metadata": {},
     "output_type": "execute_result"
    }
   ],
   "source": [
    "def package_data(data, window_size=16):\n",
    "    result = []\n",
    "    for i in range(len(data) - window_size):\n",
    "        result.append(data[i:i + window_size])\n",
    "\n",
    "    return result\n",
    "x_data = tf.convert_to_tensor(package_data(data), dtype=tf.float64)\n",
    "x_data[0].shape"
   ]
  },
  {
   "cell_type": "code",
   "execution_count": null,
   "metadata": {},
   "outputs": [],
   "source": []
  },
  {
   "cell_type": "code",
   "execution_count": 5,
   "metadata": {},
   "outputs": [],
   "source": [
    "def create_model(learning_rate=1e-4, window_size=16, num_features=51):\n",
    "    model = Sequential()\n",
    "    model.add(LSTM(160, input_shape=(window_size, num_features), return_sequences=True ))\n",
    "    model.add(LSTM(200, ))\n",
    "\n",
    "    model.add(Dense(10, activation=\"sigmoid\"))\n",
    "    model.compile(optimizer=Adam(learning_rate=learning_rate), loss=\"categorical_crossentropy\", metrics=['categorical_crossentropy'])\n",
    "\n",
    "    return model"
   ]
  },
  {
   "cell_type": "code",
   "execution_count": 8,
   "metadata": {},
   "outputs": [
    {
     "name": "stdout",
     "output_type": "stream",
     "text": [
      "Epoch 1/10\n",
      "738/738 [==============================] - 10s 13ms/step - loss: 2.0379 - categorical_crossentropy: 2.03790s - loss: 2.0567 - ca\n",
      "Epoch 2/10\n",
      "738/738 [==============================] - 11s 14ms/step - loss: 1.7197 - categorical_crossentropy: 1.7197\n",
      "Epoch 3/10\n",
      "738/738 [==============================] - 10s 14ms/step - loss: 1.5495 - categorical_crossentropy: 1.5495\n",
      "Epoch 4/10\n",
      "738/738 [==============================] - 10s 14ms/step - loss: 1.4017 - categorical_crossentropy: 1.4017\n",
      "Epoch 5/10\n",
      "738/738 [==============================] - 11s 15ms/step - loss: 1.2801 - categorical_crossentropy: 1.2801\n",
      "Epoch 6/10\n",
      "738/738 [==============================] - 10s 13ms/step - loss: 1.1800 - categorical_crossentropy: 1.1800\n",
      "Epoch 7/10\n",
      "738/738 [==============================] - 12s 16ms/step - loss: 1.0981 - categorical_crossentropy: 1.0981: 0s - loss: 1.0982 - categorical_crossent\n",
      "Epoch 8/10\n",
      "738/738 [==============================] - 11s 14ms/step - loss: 1.0266 - categorical_crossentropy: 1.0266\n",
      "Epoch 9/10\n",
      "738/738 [==============================] - 9s 13ms/step - loss: 0.9552 - categorical_crossentropy: 0.9552\n",
      "Epoch 10/10\n",
      "738/738 [==============================] - 10s 14ms/step - loss: 0.8986 - categorical_crossentropy: 0.89865s - loss: 0.910 - ETA:  - E\n"
     ]
    },
    {
     "data": {
      "text/plain": [
       "<tensorflow.python.keras.callbacks.History at 0x20b57be3af0>"
      ]
     },
     "execution_count": 8,
     "metadata": {},
     "output_type": "execute_result"
    }
   ],
   "source": [
    "model = create_model()\n",
    "model.fit(x_data, y_data[ :-16], epochs=10, batch_size=128)"
   ]
  }
 ],
 "metadata": {
  "interpreter": {
   "hash": "182e7fb9aef6214e65400ecd72ff791a1292424cbb76ef8d1a13d5d47cfdbfe7"
  },
  "kernelspec": {
   "display_name": "Python 3.10.2 ('deeplearning-xDqzH9Ev-py3.10')",
   "language": "python",
   "name": "python3"
  },
  "language_info": {
   "codemirror_mode": {
    "name": "ipython",
    "version": 3
   },
   "file_extension": ".py",
   "mimetype": "text/x-python",
   "name": "python",
   "nbconvert_exporter": "python",
   "pygments_lexer": "ipython3",
   "version": "3.8.5"
  },
  "orig_nbformat": 4
 },
 "nbformat": 4,
 "nbformat_minor": 2
}
